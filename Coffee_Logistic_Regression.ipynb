{
 "cells": [
  {
   "cell_type": "markdown",
   "id": "3adc62e5",
   "metadata": {},
   "source": [
    "### Importing Libreries"
   ]
  },
  {
   "cell_type": "code",
   "execution_count": 116,
   "id": "5b829844",
   "metadata": {},
   "outputs": [],
   "source": [
    "import os\n",
    "import pandas as pd\n",
    "import numpy as np\n",
    "import matplotlib as mpl\n",
    "import matplotlib.pyplot as plt\n",
    "from pandas.plotting import scatter_matrix\n",
    "import seaborn as sns\n",
    "from sklearn.preprocessing import StandardScaler, OneHotEncoder, LabelEncoder\n",
    "from sklearn.model_selection import train_test_split\n",
    "from sklearn.linear_model import LinearRegression\n",
    "from sklearn.linear_model import LogisticRegression\n",
    "from sklearn.tree import DecisionTreeClassifier, DecisionTreeRegressor\n",
    "from sklearn.ensemble import RandomForestClassifier, RandomForestRegressor\n",
    "from sklearn.metrics import confusion_matrix, classification_report, ConfusionMatrixDisplay, RocCurveDisplay\n",
    "from sklearn.compose import ColumnTransformer\n",
    "from sklearn import preprocessing\n",
    "from sklearn import utils\n",
    "from sklearn.neighbors import KNeighborsClassifier, KNeighborsRegressor"
   ]
  },
  {
   "cell_type": "code",
   "execution_count": 4,
   "id": "cac2b48b",
   "metadata": {},
   "outputs": [],
   "source": [
    "#Reading data"
   ]
  },
  {
   "cell_type": "code",
   "execution_count": 28,
   "id": "c4fd4c9d",
   "metadata": {},
   "outputs": [],
   "source": [
    "os.chdir(r'C:\\Users\\alber\\OneDrive\\Desktop\\IronHAck\\DATASETS\\mid_proyect')\n",
    "data = pd.read_csv('coffee_refinal.csv')"
   ]
  },
  {
   "cell_type": "code",
   "execution_count": 6,
   "id": "d75b5da3",
   "metadata": {},
   "outputs": [
    {
     "data": {
      "text/html": [
       "<div>\n",
       "<style scoped>\n",
       "    .dataframe tbody tr th:only-of-type {\n",
       "        vertical-align: middle;\n",
       "    }\n",
       "\n",
       "    .dataframe tbody tr th {\n",
       "        vertical-align: top;\n",
       "    }\n",
       "\n",
       "    .dataframe thead th {\n",
       "        text-align: right;\n",
       "    }\n",
       "</style>\n",
       "<table border=\"1\" class=\"dataframe\">\n",
       "  <thead>\n",
       "    <tr style=\"text-align: right;\">\n",
       "      <th></th>\n",
       "      <th>product_id</th>\n",
       "      <th>customer_id</th>\n",
       "      <th>transaction_id</th>\n",
       "      <th>transaction_date</th>\n",
       "      <th>transaction_time</th>\n",
       "      <th>sales_outlet_id</th>\n",
       "      <th>staff_id</th>\n",
       "      <th>instore_yn</th>\n",
       "      <th>orders</th>\n",
       "      <th>line_item_id</th>\n",
       "      <th>...</th>\n",
       "      <th>current_retail_price</th>\n",
       "      <th>tax_exempt_yn</th>\n",
       "      <th>promo_yn</th>\n",
       "      <th>new_product_yn</th>\n",
       "      <th>pa_sales_outlet_id</th>\n",
       "      <th>pa_transaction_date</th>\n",
       "      <th>start_of_day</th>\n",
       "      <th>quantity_sold</th>\n",
       "      <th>waste</th>\n",
       "      <th>perct_waste</th>\n",
       "    </tr>\n",
       "  </thead>\n",
       "  <tbody>\n",
       "    <tr>\n",
       "      <th>0</th>\n",
       "      <td>52</td>\n",
       "      <td>558</td>\n",
       "      <td>7</td>\n",
       "      <td>2019-04-01</td>\n",
       "      <td>12:04:43</td>\n",
       "      <td>3</td>\n",
       "      <td>12</td>\n",
       "      <td>N</td>\n",
       "      <td>1</td>\n",
       "      <td>1</td>\n",
       "      <td>...</td>\n",
       "      <td>$2.50</td>\n",
       "      <td>Y</td>\n",
       "      <td>N</td>\n",
       "      <td>N</td>\n",
       "      <td>NaN</td>\n",
       "      <td>NaN</td>\n",
       "      <td>NaN</td>\n",
       "      <td>NaN</td>\n",
       "      <td>NaN</td>\n",
       "      <td>NaN</td>\n",
       "    </tr>\n",
       "    <tr>\n",
       "      <th>1</th>\n",
       "      <td>27</td>\n",
       "      <td>781</td>\n",
       "      <td>11</td>\n",
       "      <td>2019-04-01</td>\n",
       "      <td>15:54:39</td>\n",
       "      <td>3</td>\n",
       "      <td>17</td>\n",
       "      <td>N</td>\n",
       "      <td>1</td>\n",
       "      <td>1</td>\n",
       "      <td>...</td>\n",
       "      <td>$3.50</td>\n",
       "      <td>Y</td>\n",
       "      <td>N</td>\n",
       "      <td>N</td>\n",
       "      <td>NaN</td>\n",
       "      <td>NaN</td>\n",
       "      <td>NaN</td>\n",
       "      <td>NaN</td>\n",
       "      <td>NaN</td>\n",
       "      <td>NaN</td>\n",
       "    </tr>\n",
       "    <tr>\n",
       "      <th>2</th>\n",
       "      <td>46</td>\n",
       "      <td>788</td>\n",
       "      <td>19</td>\n",
       "      <td>2019-04-01</td>\n",
       "      <td>14:34:59</td>\n",
       "      <td>3</td>\n",
       "      <td>17</td>\n",
       "      <td>Y</td>\n",
       "      <td>1</td>\n",
       "      <td>1</td>\n",
       "      <td>...</td>\n",
       "      <td>$2.50</td>\n",
       "      <td>Y</td>\n",
       "      <td>N</td>\n",
       "      <td>N</td>\n",
       "      <td>NaN</td>\n",
       "      <td>NaN</td>\n",
       "      <td>NaN</td>\n",
       "      <td>NaN</td>\n",
       "      <td>NaN</td>\n",
       "      <td>NaN</td>\n",
       "    </tr>\n",
       "    <tr>\n",
       "      <th>3</th>\n",
       "      <td>23</td>\n",
       "      <td>683</td>\n",
       "      <td>32</td>\n",
       "      <td>2019-04-01</td>\n",
       "      <td>16:06:04</td>\n",
       "      <td>3</td>\n",
       "      <td>12</td>\n",
       "      <td>N</td>\n",
       "      <td>1</td>\n",
       "      <td>1</td>\n",
       "      <td>...</td>\n",
       "      <td>$2.50</td>\n",
       "      <td>Y</td>\n",
       "      <td>N</td>\n",
       "      <td>N</td>\n",
       "      <td>NaN</td>\n",
       "      <td>NaN</td>\n",
       "      <td>NaN</td>\n",
       "      <td>NaN</td>\n",
       "      <td>NaN</td>\n",
       "      <td>NaN</td>\n",
       "    </tr>\n",
       "    <tr>\n",
       "      <th>4</th>\n",
       "      <td>34</td>\n",
       "      <td>99</td>\n",
       "      <td>33</td>\n",
       "      <td>2019-04-01</td>\n",
       "      <td>19:18:37</td>\n",
       "      <td>3</td>\n",
       "      <td>17</td>\n",
       "      <td>Y</td>\n",
       "      <td>1</td>\n",
       "      <td>1</td>\n",
       "      <td>...</td>\n",
       "      <td>$2.45</td>\n",
       "      <td>Y</td>\n",
       "      <td>N</td>\n",
       "      <td>N</td>\n",
       "      <td>NaN</td>\n",
       "      <td>NaN</td>\n",
       "      <td>NaN</td>\n",
       "      <td>NaN</td>\n",
       "      <td>NaN</td>\n",
       "      <td>NaN</td>\n",
       "    </tr>\n",
       "  </tbody>\n",
       "</table>\n",
       "<p>5 rows × 39 columns</p>\n",
       "</div>"
      ],
      "text/plain": [
       "   product_id  customer_id  transaction_id transaction_date transaction_time  \\\n",
       "0          52          558               7       2019-04-01         12:04:43   \n",
       "1          27          781              11       2019-04-01         15:54:39   \n",
       "2          46          788              19       2019-04-01         14:34:59   \n",
       "3          23          683              32       2019-04-01         16:06:04   \n",
       "4          34           99              33       2019-04-01         19:18:37   \n",
       "\n",
       "   sales_outlet_id  staff_id instore_yn  orders  line_item_id  ...  \\\n",
       "0                3        12          N       1             1  ...   \n",
       "1                3        17          N       1             1  ...   \n",
       "2                3        17          Y       1             1  ...   \n",
       "3                3        12          N       1             1  ...   \n",
       "4                3        17          Y       1             1  ...   \n",
       "\n",
       "   current_retail_price  tax_exempt_yn  promo_yn new_product_yn  \\\n",
       "0                $2.50               Y         N              N   \n",
       "1                $3.50               Y         N              N   \n",
       "2                $2.50               Y         N              N   \n",
       "3                $2.50               Y         N              N   \n",
       "4                $2.45               Y         N              N   \n",
       "\n",
       "   pa_sales_outlet_id pa_transaction_date start_of_day quantity_sold waste  \\\n",
       "0                 NaN                 NaN          NaN           NaN   NaN   \n",
       "1                 NaN                 NaN          NaN           NaN   NaN   \n",
       "2                 NaN                 NaN          NaN           NaN   NaN   \n",
       "3                 NaN                 NaN          NaN           NaN   NaN   \n",
       "4                 NaN                 NaN          NaN           NaN   NaN   \n",
       "\n",
       "  perct_waste  \n",
       "0         NaN  \n",
       "1         NaN  \n",
       "2         NaN  \n",
       "3         NaN  \n",
       "4         NaN  \n",
       "\n",
       "[5 rows x 39 columns]"
      ]
     },
     "execution_count": 6,
     "metadata": {},
     "output_type": "execute_result"
    }
   ],
   "source": [
    "data.head()"
   ]
  },
  {
   "cell_type": "markdown",
   "id": "1f654fcf",
   "metadata": {},
   "source": [
    "# Data Exploration"
   ]
  },
  {
   "cell_type": "code",
   "execution_count": 7,
   "id": "91d3e1bf",
   "metadata": {},
   "outputs": [
    {
     "name": "stdout",
     "output_type": "stream",
     "text": [
      "<class 'pandas.core.frame.DataFrame'>\n",
      "RangeIndex: 280345 entries, 0 to 280344\n",
      "Data columns (total 39 columns):\n",
      " #   Column                   Non-Null Count   Dtype  \n",
      "---  ------                   --------------   -----  \n",
      " 0   product_id               280345 non-null  int64  \n",
      " 1   customer_id              280345 non-null  int64  \n",
      " 2   transaction_id           280345 non-null  int64  \n",
      " 3   transaction_date         280345 non-null  object \n",
      " 4   transaction_time         280345 non-null  object \n",
      " 5   sales_outlet_id          280345 non-null  int64  \n",
      " 6   staff_id                 280345 non-null  int64  \n",
      " 7   instore_yn               280345 non-null  object \n",
      " 8   orders                   280345 non-null  int64  \n",
      " 9   line_item_id             280345 non-null  int64  \n",
      " 10  quantity                 280345 non-null  int64  \n",
      " 11  line_item_amount         280345 non-null  float64\n",
      " 12  unit_price               280345 non-null  float64\n",
      " 13  promo_item_yn            280345 non-null  object \n",
      " 14  home_store               138648 non-null  float64\n",
      " 15  customer_first-name      138648 non-null  object \n",
      " 16  customer_email           138648 non-null  object \n",
      " 17  customer_since           138648 non-null  object \n",
      " 18  loyalty_card_number      138648 non-null  object \n",
      " 19  birthdate                138648 non-null  object \n",
      " 20  gender                   138648 non-null  object \n",
      " 21  birth_year               138648 non-null  float64\n",
      " 22  product_group            280345 non-null  object \n",
      " 23  product_category         280345 non-null  object \n",
      " 24  product_type             280345 non-null  object \n",
      " 25  product                  280345 non-null  object \n",
      " 26  product_description      280345 non-null  object \n",
      " 27  unit_of_measure          280345 non-null  object \n",
      " 28  current_wholesame_price  280345 non-null  float64\n",
      " 29  current_retail_price     280345 non-null  object \n",
      " 30  tax_exempt_yn            280345 non-null  object \n",
      " 31  promo_yn                 280345 non-null  object \n",
      " 32  new_product_yn           280345 non-null  object \n",
      " 33  pa_sales_outlet_id       234267 non-null  float64\n",
      " 34  pa_transaction_date      234267 non-null  object \n",
      " 35  start_of_day             234267 non-null  float64\n",
      " 36  quantity_sold            234267 non-null  float64\n",
      " 37  waste                    234267 non-null  float64\n",
      " 38  perct_waste              234267 non-null  object \n",
      "dtypes: float64(9), int64(8), object(22)\n",
      "memory usage: 83.4+ MB\n"
     ]
    }
   ],
   "source": [
    "data.info()"
   ]
  },
  {
   "cell_type": "code",
   "execution_count": 8,
   "id": "c1653055",
   "metadata": {},
   "outputs": [
    {
     "data": {
      "text/plain": [
       "(280345, 39)"
      ]
     },
     "execution_count": 8,
     "metadata": {},
     "output_type": "execute_result"
    }
   ],
   "source": [
    "data.shape"
   ]
  },
  {
   "cell_type": "code",
   "execution_count": 9,
   "id": "cd9e56f6",
   "metadata": {},
   "outputs": [
    {
     "data": {
      "text/plain": [
       "product_id                 False\n",
       "customer_id                False\n",
       "transaction_id             False\n",
       "transaction_date           False\n",
       "transaction_time           False\n",
       "sales_outlet_id            False\n",
       "staff_id                   False\n",
       "instore_yn                 False\n",
       "orders                     False\n",
       "line_item_id               False\n",
       "quantity                   False\n",
       "line_item_amount           False\n",
       "unit_price                 False\n",
       "promo_item_yn              False\n",
       "home_store                  True\n",
       "customer_first-name         True\n",
       "customer_email              True\n",
       "customer_since              True\n",
       "loyalty_card_number         True\n",
       "birthdate                   True\n",
       "gender                      True\n",
       "birth_year                  True\n",
       "product_group              False\n",
       "product_category           False\n",
       "product_type               False\n",
       "product                    False\n",
       "product_description        False\n",
       "unit_of_measure            False\n",
       "current_wholesame_price    False\n",
       "current_retail_price       False\n",
       "tax_exempt_yn              False\n",
       "promo_yn                   False\n",
       "new_product_yn             False\n",
       "pa_sales_outlet_id          True\n",
       "pa_transaction_date         True\n",
       "start_of_day                True\n",
       "quantity_sold               True\n",
       "waste                       True\n",
       "perct_waste                 True\n",
       "dtype: bool"
      ]
     },
     "execution_count": 9,
     "metadata": {},
     "output_type": "execute_result"
    }
   ],
   "source": [
    "data.isna().any()"
   ]
  },
  {
   "cell_type": "code",
   "execution_count": null,
   "id": "2e898037",
   "metadata": {},
   "outputs": [],
   "source": [
    "\n"
   ]
  },
  {
   "cell_type": "markdown",
   "id": "9dabac95",
   "metadata": {},
   "source": [
    "# Preprocessing"
   ]
  },
  {
   "cell_type": "code",
   "execution_count": 29,
   "id": "a7c6e9bb",
   "metadata": {},
   "outputs": [
    {
     "data": {
      "text/plain": [
       "(280345, 39)"
      ]
     },
     "execution_count": 29,
     "metadata": {},
     "output_type": "execute_result"
    }
   ],
   "source": [
    "#Remove duplicated in the DataFrame\n",
    "data.drop_duplicates(subset=None, keep='first', inplace=True, ignore_index=False)\n",
    "data.shape"
   ]
  },
  {
   "cell_type": "code",
   "execution_count": 30,
   "id": "c57d15df",
   "metadata": {},
   "outputs": [],
   "source": [
    "# Dataframe to csv\n",
    "#compression_opts = dict(method='zip',\n",
    "#                      archive_name='coffee_refinal.csv')  \n",
    "#data.to_csv('coffee_refinal.zip', index=False,\n",
    "#          compression=compression_opts)"
   ]
  },
  {
   "cell_type": "code",
   "execution_count": 31,
   "id": "acdbc5d6",
   "metadata": {},
   "outputs": [],
   "source": [
    "# Splitting the dataframes between coffees and pastry\n",
    "\n",
    "#pastry_df = data.loc[(data['product_id'] >= 69) & (data['product_id'] <= 73)]\n",
    "\n",
    "#coffee_df = data.iloc[:, 0:33]"
   ]
  },
  {
   "cell_type": "code",
   "execution_count": 32,
   "id": "872cbb4a",
   "metadata": {},
   "outputs": [],
   "source": [
    "# Prepocessing coffee_df\n",
    "\n",
    "#X = coffee_df.iloc[: , [8,10,12,28]]\n",
    "\n",
    "#y = coffee_df.loc[: , 'line_item_amount']"
   ]
  },
  {
   "cell_type": "code",
   "execution_count": 33,
   "id": "bede6544",
   "metadata": {},
   "outputs": [],
   "source": [
    "# Creating new column 'unit_price_range' splitting the prizes in 3 ranges\n",
    "\n",
    "data.loc[(data.unit_price <= 2.5), 'unit_price_range'] = 1\n",
    "data.loc[(data.unit_price < 10) & (data.unit_price > 2.5) , 'unit_price_range'] = 2\n",
    "data.loc[(data.unit_price >= 10 ), 'unit_price_range'] = 3"
   ]
  },
  {
   "cell_type": "code",
   "execution_count": 34,
   "id": "0c6f49c4",
   "metadata": {},
   "outputs": [],
   "source": [
    "#data.loc[(data.unit_price <= 5), 'unit_price_range'] = 1\n",
    "#data.loc[(data.unit_price > 5) , 'unit_price_range'] = 2"
   ]
  },
  {
   "cell_type": "code",
   "execution_count": 35,
   "id": "f1d085e6",
   "metadata": {},
   "outputs": [
    {
     "data": {
      "text/plain": [
       "2.0    263491\n",
       "1.0     15930\n",
       "3.0       924\n",
       "Name: unit_price_range, dtype: int64"
      ]
     },
     "execution_count": 35,
     "metadata": {},
     "output_type": "execute_result"
    }
   ],
   "source": [
    "data.unit_price_range.value_counts()"
   ]
  },
  {
   "cell_type": "markdown",
   "id": "c64a1dde",
   "metadata": {},
   "source": [
    "#### unit_price_range = 1 --> LOW\n",
    "\n",
    "#### unit_price_range = 2 --> MEDIUM\n",
    "\n",
    "#### unit_price_range = 3 --> HIGH"
   ]
  },
  {
   "cell_type": "code",
   "execution_count": 36,
   "id": "bfd34355",
   "metadata": {},
   "outputs": [
    {
     "data": {
      "text/plain": [
       "Index(['product_id', 'customer_id', 'transaction_id', 'transaction_date',\n",
       "       'transaction_time', 'sales_outlet_id', 'staff_id', 'instore_yn',\n",
       "       'orders', 'line_item_id', 'quantity', 'line_item_amount', 'unit_price',\n",
       "       'promo_item_yn', 'home_store', 'customer_first-name', 'customer_email',\n",
       "       'customer_since', 'loyalty_card_number', 'birthdate', 'gender',\n",
       "       'birth_year', 'product_group', 'product_category', 'product_type',\n",
       "       'product', 'product_description', 'unit_of_measure',\n",
       "       'current_wholesame_price', 'current_retail_price', 'tax_exempt_yn',\n",
       "       'promo_yn', 'new_product_yn', 'pa_sales_outlet_id',\n",
       "       'pa_transaction_date', 'start_of_day', 'quantity_sold', 'waste',\n",
       "       'perct_waste', 'unit_price_range'],\n",
       "      dtype='object')"
      ]
     },
     "execution_count": 36,
     "metadata": {},
     "output_type": "execute_result"
    }
   ],
   "source": [
    "data.columns"
   ]
  },
  {
   "cell_type": "code",
   "execution_count": 37,
   "id": "d8ae78fa",
   "metadata": {},
   "outputs": [
    {
     "data": {
      "text/plain": [
       "2.0    263491\n",
       "1.0     15930\n",
       "3.0       924\n",
       "Name: unit_price_range, dtype: int64"
      ]
     },
     "execution_count": 37,
     "metadata": {},
     "output_type": "execute_result"
    }
   ],
   "source": [
    "data.unit_price_range.value_counts()"
   ]
  },
  {
   "cell_type": "code",
   "execution_count": null,
   "id": "e1c156c8",
   "metadata": {},
   "outputs": [],
   "source": []
  },
  {
   "cell_type": "code",
   "execution_count": 283,
   "id": "cf42066e",
   "metadata": {},
   "outputs": [],
   "source": [
    "# Choosing features and dropping duplicates/NaNs. Maybe include 'instore_yn', 'product_group', 'new_product_yn', 'product_type'\n",
    "\n",
    "X = data.loc[:, ['gender', 'birth_year',\n",
    "             'product_group', 'unit_price_range', 'line_item_amount']]\n",
    "\n",
    "X.drop_duplicates(keep='first', inplace=True, ignore_index=False)\n",
    "\n",
    "X.dropna(inplace=True)\n",
    "\n",
    "\n",
    "y = X.loc[:,'unit_price_range']\n",
    "X = X.loc[:,['gender', 'birth_year',\n",
    "             'product_group', 'line_item_amount']]"
   ]
  },
  {
   "cell_type": "code",
   "execution_count": 284,
   "id": "45885b84",
   "metadata": {},
   "outputs": [
    {
     "name": "stdout",
     "output_type": "stream",
     "text": [
      "<class 'pandas.core.frame.DataFrame'>\n",
      "Int64Index: 5066 entries, 0 to 280273\n",
      "Data columns (total 4 columns):\n",
      " #   Column            Non-Null Count  Dtype  \n",
      "---  ------            --------------  -----  \n",
      " 0   gender            5066 non-null   object \n",
      " 1   birth_year        5066 non-null   float64\n",
      " 2   product_group     5066 non-null   object \n",
      " 3   line_item_amount  5066 non-null   float64\n",
      "dtypes: float64(2), object(2)\n",
      "memory usage: 197.9+ KB\n"
     ]
    }
   ],
   "source": [
    "X.info()"
   ]
  },
  {
   "cell_type": "code",
   "execution_count": 285,
   "id": "fd676916",
   "metadata": {},
   "outputs": [
    {
     "name": "stdout",
     "output_type": "stream",
     "text": [
      "Nb rows X_train = 3546\n",
      "Nb rows X_test = 1520\n",
      "Nb rows y_train = 3546\n",
      "Nb rows y_test = 1520\n"
     ]
    }
   ],
   "source": [
    "#Train/Test split\n",
    "X_train, X_test, y_train, y_test = train_test_split(X, y, test_size=0.3, random_state=2)\n",
    "\n",
    "print(\"Nb rows X_train = {}\".format(len(X_train)))\n",
    "print(\"Nb rows X_test = {}\".format(len(X_test)))\n",
    "print(\"Nb rows y_train = {}\".format(len(y_train)))\n",
    "print(\"Nb rows y_test = {}\".format(len(y_test)))"
   ]
  },
  {
   "cell_type": "code",
   "execution_count": 286,
   "id": "d16fa051",
   "metadata": {},
   "outputs": [],
   "source": [
    "# Encoding categorical features and standardizing numeric features\n",
    "\n",
    "numeric_features = [1, 3] # Choose which column index we are going to scale\n",
    "numeric_transformer = StandardScaler()\n",
    "\n",
    "categorical_features = [0, 2] \n",
    "categorical_transformer = OneHotEncoder()\n",
    "\n",
    "\n",
    "# Apply ColumnTransformer to create a pipeline that will apply the above preprocessing\n",
    "feature_encoder = ColumnTransformer(\n",
    "    transformers=[\n",
    "        ('cat', categorical_transformer, categorical_features),    \n",
    "        ('num', numeric_transformer, numeric_features)\n",
    "        ]\n",
    "    )\n",
    "\n",
    "\n",
    "X_train = feature_encoder.fit_transform(X_train)\n",
    "X_test = feature_encoder.transform(X_test)\n",
    "\n",
    "\n",
    "#Encoding target variable\n",
    "#encoder = LabelEncoder()\n",
    "#y_train = encoder.fit_transform(y_train)\n",
    "#y_test = encoder.transform(y_test)"
   ]
  },
  {
   "cell_type": "markdown",
   "id": "a08e1d26",
   "metadata": {},
   "source": [
    "## MODELING"
   ]
  },
  {
   "cell_type": "code",
   "execution_count": 287,
   "id": "76521163",
   "metadata": {},
   "outputs": [],
   "source": [
    "model1 = LogisticRegression()\n",
    "model2 = DecisionTreeRegressor()\n",
    "model3 = RandomForestRegressor()"
   ]
  },
  {
   "cell_type": "code",
   "execution_count": null,
   "id": "032dd3ff",
   "metadata": {},
   "outputs": [],
   "source": []
  },
  {
   "cell_type": "code",
   "execution_count": 288,
   "id": "ba66dd08",
   "metadata": {},
   "outputs": [],
   "source": [
    "def Log_Reg(model):\n",
    "\n",
    "    model.fit(X_train, y_train)\n",
    "        \n",
    "    # Evaluation of the model\n",
    "    pred_train = model.predict(X_train)\n",
    "    pred_test = model.predict(X_test)\n",
    "        \n",
    "    print(classification_report(y_train, pred_train))\n",
    "    print(classification_report(y_test, pred_test))\n",
    "    \n",
    "    # Visualize confusion matrices\n",
    "    _ , ax = plt.subplots() # Get subplot from matplotlib\n",
    "    ax.set(title=\"Confusion Matrix on Train set\") # Set a title that we will add into ConfusionMatrixDisplay\n",
    "    ConfusionMatrixDisplay.from_estimator(model, X_train, y_train, ax=ax) # ConfusionMatrixDisplay from sklearn\n",
    "    plt.show()\n",
    "\n",
    "    _ , ax = plt.subplots() # Get subplot from matplotlib\n",
    "    ax.set(title=\"Confusion Matrix on Test set\") # Set a title that we will add into ConfusionMatrixDisplay\n",
    "    ConfusionMatrixDisplay.from_estimator(model, X_test, y_test, ax=ax) # ConfusionMatrixDisplay from sklearn"
   ]
  },
  {
   "cell_type": "code",
   "execution_count": 289,
   "id": "ad7c6849",
   "metadata": {},
   "outputs": [],
   "source": [
    "def ran_for(model, forest):\n",
    "\n",
    "    model.fit(X_train, y_train)\n",
    "    \n",
    "    # Evaluation of the model\n",
    "    print(\"Train Score : {}\".format(model.score(X_train, y_train)))\n",
    "    print('Test Score : {}'.format(model.score(X_test, y_test)))\n",
    "    "
   ]
  },
  {
   "cell_type": "code",
   "execution_count": 290,
   "id": "44d8e6a6",
   "metadata": {},
   "outputs": [],
   "source": [
    "def dec_tree(model, leaf):\n",
    "    \n",
    "    model.fit(X_train, y_train)\n",
    "    \n",
    "    # Evaluation of the model\n",
    "    print(\"Train Score : {}\".format(model.score(X_train, y_train)))\n",
    "    print('Test Score : {}'.format(model.score(X_test, y_test)))\n",
    "    \n",
    " "
   ]
  },
  {
   "cell_type": "code",
   "execution_count": 291,
   "id": "3a9b4d3e",
   "metadata": {},
   "outputs": [
    {
     "name": "stderr",
     "output_type": "stream",
     "text": [
      "C:\\Users\\alber\\anaconda3\\lib\\site-packages\\sklearn\\linear_model\\_logistic.py:444: ConvergenceWarning: lbfgs failed to converge (status=1):\n",
      "STOP: TOTAL NO. of ITERATIONS REACHED LIMIT.\n",
      "\n",
      "Increase the number of iterations (max_iter) or scale the data as shown in:\n",
      "    https://scikit-learn.org/stable/modules/preprocessing.html\n",
      "Please also refer to the documentation for alternative solver options:\n",
      "    https://scikit-learn.org/stable/modules/linear_model.html#logistic-regression\n",
      "  n_iter_i = _check_optimize_result(\n"
     ]
    },
    {
     "name": "stdout",
     "output_type": "stream",
     "text": [
      "              precision    recall  f1-score   support\n",
      "\n",
      "         1.0       0.67      0.55      0.60      1010\n",
      "         2.0       0.81      0.88      0.85      2349\n",
      "         3.0       1.00      0.92      0.96       187\n",
      "\n",
      "    accuracy                           0.79      3546\n",
      "   macro avg       0.83      0.78      0.80      3546\n",
      "weighted avg       0.78      0.79      0.78      3546\n",
      "\n",
      "              precision    recall  f1-score   support\n",
      "\n",
      "         1.0       0.72      0.58      0.64       444\n",
      "         2.0       0.82      0.90      0.86       985\n",
      "         3.0       1.00      0.95      0.97        91\n",
      "\n",
      "    accuracy                           0.81      1520\n",
      "   macro avg       0.85      0.81      0.82      1520\n",
      "weighted avg       0.80      0.81      0.80      1520\n",
      "\n"
     ]
    },
    {
     "data": {
      "image/png": "[encoded data removed]",
      "text/plain": [
       "<Figure size 432x288 with 2 Axes>"
      ]
     },
     "metadata": {
      "needs_background": "light"
     },
     "output_type": "display_data"
    },
    {
     "data": {
      "image/png": "[encoded data removed]",
      "text/plain": [
       "<Figure size 432x288 with 2 Axes>"
      ]
     },
     "metadata": {
      "needs_background": "light"
     },
     "output_type": "display_data"
    }
   ],
   "source": [
    "Log_Reg(model1)"
   ]
  },
  {
   "cell_type": "code",
   "execution_count": 292,
   "id": "e9e53549",
   "metadata": {},
   "outputs": [
    {
     "name": "stdout",
     "output_type": "stream",
     "text": [
      "Train Score : 0.949905361182929\n",
      "Test Score : 0.8567305535067927\n"
     ]
    }
   ],
   "source": [
    "#Random Forest\n",
    "ran_for(model3, 200)"
   ]
  },
  {
   "cell_type": "code",
   "execution_count": 293,
   "id": "5c2a6a9e",
   "metadata": {},
   "outputs": [
    {
     "name": "stdout",
     "output_type": "stream",
     "text": [
      "Train Score : 0.9562618982275618\n",
      "Test Score : 0.7963667837656897\n"
     ]
    }
   ],
   "source": [
    "#Decision Tree\n",
    "dec_tree(model2, 3)"
   ]
  },
  {
   "cell_type": "code",
   "execution_count": null,
   "id": "320c0277",
   "metadata": {},
   "outputs": [],
   "source": []
  },
  {
   "cell_type": "markdown",
   "id": "e5a32094",
   "metadata": {},
   "source": [
    "# First correction imbalance: oversampling "
   ]
  },
  {
   "cell_type": "markdown",
   "id": "47d4ba16",
   "metadata": {},
   "source": [
    "# SMOTE method"
   ]
  },
  {
   "cell_type": "code",
   "execution_count": 294,
   "id": "7e6c2ee5",
   "metadata": {},
   "outputs": [],
   "source": [
    "from imblearn.over_sampling import SMOTE\n",
    "\n",
    "sm = SMOTE(k_neighbors=3)\n",
    "\n",
    "X_train_SMOTE, y_train_SMOTE = sm.fit_resample(X_train, y_train)"
   ]
  },
  {
   "cell_type": "code",
   "execution_count": 295,
   "id": "66fe45b8",
   "metadata": {},
   "outputs": [
    {
     "name": "stdout",
     "output_type": "stream",
     "text": [
      "(3546, 10)\n",
      "(7047, 10)\n"
     ]
    }
   ],
   "source": [
    "print(X_train.shape)\n",
    "print(X_train_SMOTE.shape)"
   ]
  },
  {
   "cell_type": "code",
   "execution_count": 296,
   "id": "7994a56c",
   "metadata": {},
   "outputs": [
    {
     "data": {
      "text/plain": [
       "2.0    0.662437\n",
       "1.0    0.284828\n",
       "3.0    0.052735\n",
       "Name: unit_price_range, dtype: float64"
      ]
     },
     "execution_count": 296,
     "metadata": {},
     "output_type": "execute_result"
    }
   ],
   "source": [
    "y_train.value_counts()/len(y_train)"
   ]
  },
  {
   "cell_type": "code",
   "execution_count": 297,
   "id": "38f4fb4c",
   "metadata": {},
   "outputs": [
    {
     "data": {
      "text/plain": [
       "1.0    0.333333\n",
       "2.0    0.333333\n",
       "3.0    0.333333\n",
       "Name: unit_price_range, dtype: float64"
      ]
     },
     "execution_count": 297,
     "metadata": {},
     "output_type": "execute_result"
    }
   ],
   "source": [
    "y_train_SMOTE.value_counts()/len(y_train_SMOTE)"
   ]
  },
  {
   "cell_type": "code",
   "execution_count": 298,
   "id": "fc942345",
   "metadata": {},
   "outputs": [
    {
     "name": "stdout",
     "output_type": "stream",
     "text": [
      "              precision    recall  f1-score   support\n",
      "\n",
      "         1.0       0.53      0.83      0.65       444\n",
      "         2.0       0.90      0.67      0.77       985\n",
      "         3.0       0.96      1.00      0.98        91\n",
      "\n",
      "    accuracy                           0.74      1520\n",
      "   macro avg       0.80      0.83      0.80      1520\n",
      "weighted avg       0.79      0.74      0.74      1520\n",
      "\n",
      "              precision    recall  f1-score   support\n",
      "\n",
      "         1.0       0.71      0.83      0.77      2349\n",
      "         2.0       0.80      0.66      0.72      2349\n",
      "         3.0       0.99      1.00      1.00      2349\n",
      "\n",
      "    accuracy                           0.83      7047\n",
      "   macro avg       0.83      0.83      0.83      7047\n",
      "weighted avg       0.83      0.83      0.83      7047\n",
      "\n"
     ]
    },
    {
     "name": "stderr",
     "output_type": "stream",
     "text": [
      "C:\\Users\\alber\\anaconda3\\lib\\site-packages\\sklearn\\linear_model\\_logistic.py:444: ConvergenceWarning: lbfgs failed to converge (status=1):\n",
      "STOP: TOTAL NO. of ITERATIONS REACHED LIMIT.\n",
      "\n",
      "Increase the number of iterations (max_iter) or scale the data as shown in:\n",
      "    https://scikit-learn.org/stable/modules/preprocessing.html\n",
      "Please also refer to the documentation for alternative solver options:\n",
      "    https://scikit-learn.org/stable/modules/linear_model.html#logistic-regression\n",
      "  n_iter_i = _check_optimize_result(\n"
     ]
    }
   ],
   "source": [
    "model = LogisticRegression()\n",
    "model.fit(X_train_SMOTE, y_train_SMOTE)\n",
    "\n",
    "pred_train_SMOTE = model.predict(X_train_SMOTE)\n",
    "pred_test_SMOTE = model.predict(X_test)\n",
    "print(classification_report(y_test, pred_test_SMOTE))\n",
    "print(classification_report(y_train_SMOTE, pred_train_SMOTE))"
   ]
  },
  {
   "cell_type": "code",
   "execution_count": null,
   "id": "f574552c",
   "metadata": {},
   "outputs": [],
   "source": []
  },
  {
   "cell_type": "code",
   "execution_count": null,
   "id": "ffc46a3c",
   "metadata": {},
   "outputs": [],
   "source": []
  },
  {
   "cell_type": "code",
   "execution_count": null,
   "id": "86f15748",
   "metadata": {},
   "outputs": [],
   "source": []
  }
 ],
 "metadata": {
  "kernelspec": {
   "display_name": "Python 3",
   "language": "python",
   "name": "python3"
  },
  "language_info": {
   "codemirror_mode": {
    "name": "ipython",
    "version": 3
   },
   "file_extension": ".py",
   "mimetype": "text/x-python",
   "name": "python",
   "nbconvert_exporter": "python",
   "pygments_lexer": "ipython3",
   "version": "3.8.8"
  }
 },
 "nbformat": 4,
 "nbformat_minor": 5
}
