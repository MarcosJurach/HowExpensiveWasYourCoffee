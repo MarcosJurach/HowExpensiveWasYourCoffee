{
 "cells": [
  {
   "cell_type": "code",
   "execution_count": 14,
   "id": "c0334fa1",
   "metadata": {},
   "outputs": [],
   "source": [
    "import pandas as pd\n",
    "import numpy as np\n",
    "import matplotlib as mpl\n",
    "import matplotlib.pyplot as plt\n",
    "import seaborn as sns\n",
    "from sklearn.preprocessing import StandardScaler\n",
    "from sklearn.model_selection import train_test_split\n",
    "from sklearn.linear_model import LinearRegression\n",
    "from sklearn.tree import DecisionTreeClassifier\n",
    "from sklearn.ensemble import RandomForestClassifier\n",
    "from sklearn.metrics import confusion_matrix"
   ]
  },
  {
   "cell_type": "code",
   "execution_count": 19,
   "id": "742ffc75",
   "metadata": {},
   "outputs": [
    {
     "name": "stdout",
     "output_type": "stream",
     "text": [
      "<class 'pandas.core.frame.DataFrame'>\n",
      "RangeIndex: 2540716 entries, 0 to 2540715\n",
      "Data columns (total 39 columns):\n",
      " #   Column                   Dtype  \n",
      "---  ------                   -----  \n",
      " 0   sales_outlet_id          int64  \n",
      " 1   product_id               int64  \n",
      " 2   customer_id              int64  \n",
      " 3   transaction_id           int64  \n",
      " 4   transaction_date         object \n",
      " 5   transaction_time         object \n",
      " 6   staff_id                 int64  \n",
      " 7   instore_yn               object \n",
      " 8   orders                   int64  \n",
      " 9   line_item_id             int64  \n",
      " 10  quantity                 int64  \n",
      " 11  line_item_amount         float64\n",
      " 12  unit_price               float64\n",
      " 13  promo_item_yn            object \n",
      " 14  home_store               float64\n",
      " 15  customer_first-name      object \n",
      " 16  customer_email           object \n",
      " 17  customer_since           object \n",
      " 18  loyalty_card_number      object \n",
      " 19  birthdate                object \n",
      " 20  gender                   object \n",
      " 21  birth_year               float64\n",
      " 22  product_group            object \n",
      " 23  product_category         object \n",
      " 24  product_type             object \n",
      " 25  product                  object \n",
      " 26  product_description      object \n",
      " 27  unit_of_measure          object \n",
      " 28  current_wholesame_price  float64\n",
      " 29  current_retail_price     object \n",
      " 30  tax_exempt_yn            object \n",
      " 31  promo_yn                 object \n",
      " 32  new_product_yn           object \n",
      " 33  transaction_date         object \n",
      " 34  product_id               int64  \n",
      " 35  start_of_day             int64  \n",
      " 36  quantity_sold            int64  \n",
      " 37  waste                    int64  \n",
      " 38  %waste                   object \n",
      "dtypes: float64(5), int64(12), object(22)\n",
      "memory usage: 756.0+ MB\n"
     ]
    }
   ],
   "source": [
    "# Business understanding: what do we have on the data and a menu analysis\n",
    "coffee_db = pd.read_csv('coffee.csv')\n",
    "coffee_db.rename(columns = {'0':'sales_outlet_id', '1':'product_id',\n",
    "                            '2':'customer_id', '3':'transaction_id',\n",
    "                            '4':'transaction_date',\n",
    "                            '5':'transaction_time', '6':'staff_id',\n",
    "                            '7':'instore_yn', '8':'orders',\n",
    "                            '9': 'line_item_id', '10': 'quantity',\n",
    "                            '11':'line_item_amount', '12':'unit_price',\n",
    "                            '13': 'promo_item_yn', '14':'home_store',\n",
    "                            '15':'customer_first-name',\n",
    "                            '16':'customer_email', '17':'customer_since',\n",
    "                            '18':'loyalty_card_number',\n",
    "                            '19': 'birthdate', '20':'gender',\n",
    "                            '21':'birth_year', '22':'product_group',\n",
    "                            '23':'product_category', '24':'product_type',\n",
    "                            '25':'product', '26':'product_description',\n",
    "                            '27':'unit_of_measure', '28':'current_wholesame_price',\n",
    "                            '29':'current_retail_price', '30':'tax_exempt_yn',\n",
    "                            '31':'promo_yn','32':'new_product_yn','33':'transaction_date',\n",
    "                            '34':'product_id', '35':'start_of_day', '36':'quantity_sold',\n",
    "                            '37': 'waste', '38':'%waste'\n",
    "                           }, inplace = True)\n",
    "coffee_db.info()"
   ]
  },
  {
   "cell_type": "code",
   "execution_count": null,
   "id": "261472d4",
   "metadata": {},
   "outputs": [],
   "source": [
    "# Train and test split\n",
    "y = coffee_db['line_item_amount']\n",
    "X = coffee_db['']\n",
    "\n",
    "X_train, X_test, y_train, y_test = train_test_split(X, y, test_size=0.2, random_state=0)"
   ]
  },
  {
   "cell_type": "code",
   "execution_count": 12,
   "id": "1567f537",
   "metadata": {},
   "outputs": [
    {
     "data": {
      "text/plain": [
       "{'product_id': None, 'total_revenue': None}"
      ]
     },
     "execution_count": 12,
     "metadata": {},
     "output_type": "execute_result"
    }
   ],
   "source": [
    "def dec_tree(leaf):\n",
    "    classifier = DecisionTreeClassifier(min_samples_leaf=leaf)\n",
    "    classifier.fit(X_train, y_train)\n",
    "    # Evaluation of the model\n",
    "    print(\"Train Score : {}\".format(classifier.score(X_train, y_train)))\n",
    "    print('Test Score : {}'.format(classifier.score(X_test, y_test)))\n",
    "    # Confusion matrix\n",
    "    cm = confusion_matrix(y_test, classifier.predict(X_test))\n",
    "    sns.heatmap(cm, annot=True, fmt=\".1f\")"
   ]
  },
  {
   "cell_type": "code",
   "execution_count": null,
   "id": "6f42cc5b",
   "metadata": {},
   "outputs": [],
   "source": [
    "def random_forest(forest):\n",
    "    classifier = RandomForestClassifier(n_estimators=forest)\n",
    "    classifier.fit(X_train, y_train)\n",
    "    # Evaluation of the model\n",
    "    print(\"Train Score : {}\".format(classifier.score(X_train, y_train)))\n",
    "    print('Test Score : {}'.format(classifier.score(X_test, y_test)))\n",
    "    # Confusion matrix\n",
    "    cm = confusion_matrix(y_test, classifier.predict(X_test))\n",
    "    sns.heatmap(cm, annot=True, fmt=\".1f\")"
   ]
  },
  {
   "cell_type": "code",
   "execution_count": null,
   "id": "7bb35b29",
   "metadata": {},
   "outputs": [],
   "source": [
    "# Confusion matrix\n",
    "cm = confusion_matrix(y_test, classifier.predict(X_test))\n",
    "sns.heatmap(cm, annot=True, fmt=\".1f\")"
   ]
  }
 ],
 "metadata": {
  "kernelspec": {
   "display_name": "Python 3 (ipykernel)",
   "language": "python",
   "name": "python3"
  },
  "language_info": {
   "codemirror_mode": {
    "name": "ipython",
    "version": 3
   },
   "file_extension": ".py",
   "mimetype": "text/x-python",
   "name": "python",
   "nbconvert_exporter": "python",
   "pygments_lexer": "ipython3",
   "version": "3.9.12"
  }
 },
 "nbformat": 4,
 "nbformat_minor": 5
}
