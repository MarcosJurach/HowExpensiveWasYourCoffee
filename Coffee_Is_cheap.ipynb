{
 "cells": [
  {
   "cell_type": "code",
   "execution_count": 1,
   "id": "28c2947d",
   "metadata": {},
   "outputs": [],
   "source": [
    "# Prediction of Is_cheap column with the explicative features \n",
    "# ['gender', 'weekday', 'is_morning','product_group', 'line_item_amount']"
   ]
  },
  {
   "cell_type": "markdown",
   "id": "bbeec02c",
   "metadata": {},
   "source": [
    "### Importing Libreries"
   ]
  },
  {
   "cell_type": "code",
   "execution_count": 2,
   "id": "f619b8fe",
   "metadata": {},
   "outputs": [],
   "source": [
    "import os\n",
    "import pandas as pd\n",
    "import numpy as np\n",
    "import matplotlib as mpl\n",
    "import matplotlib.pyplot as plt\n",
    "from pandas.plotting import scatter_matrix\n",
    "import seaborn as sns\n",
    "from sklearn.preprocessing import StandardScaler, OneHotEncoder, LabelEncoder\n",
    "from sklearn.model_selection import train_test_split\n",
    "from sklearn.linear_model import LinearRegression\n",
    "from sklearn.linear_model import LogisticRegression\n",
    "from sklearn.tree import DecisionTreeClassifier, DecisionTreeRegressor\n",
    "from sklearn.ensemble import RandomForestClassifier, RandomForestRegressor\n",
    "from sklearn.metrics import confusion_matrix, classification_report, ConfusionMatrixDisplay, RocCurveDisplay\n",
    "from sklearn.compose import ColumnTransformer\n",
    "from sklearn import preprocessing\n",
    "from sklearn import utils\n",
    "from sklearn.neighbors import KNeighborsClassifier, KNeighborsRegressor\n",
    "\n",
    "import math as m\n",
    "import scipy.stats as stats"
   ]
  },
  {
   "cell_type": "code",
   "execution_count": 3,
   "id": "2791aaa1",
   "metadata": {},
   "outputs": [],
   "source": [
    "#Reading data"
   ]
  },
  {
   "cell_type": "code",
   "execution_count": 4,
   "id": "3a82e32a",
   "metadata": {},
   "outputs": [],
   "source": [
    "os.chdir(r'C:\\Users\\alber\\OneDrive\\Desktop\\IronHAck\\DATASETS\\mid_proyect')\n",
    "data = pd.read_csv('coffee_refinal.csv')"
   ]
  },
  {
   "cell_type": "code",
   "execution_count": 5,
   "id": "d7ade308",
   "metadata": {},
   "outputs": [
    {
     "data": {
      "text/html": [
       "<div>\n",
       "<style scoped>\n",
       "    .dataframe tbody tr th:only-of-type {\n",
       "        vertical-align: middle;\n",
       "    }\n",
       "\n",
       "    .dataframe tbody tr th {\n",
       "        vertical-align: top;\n",
       "    }\n",
       "\n",
       "    .dataframe thead th {\n",
       "        text-align: right;\n",
       "    }\n",
       "</style>\n",
       "<table border=\"1\" class=\"dataframe\">\n",
       "  <thead>\n",
       "    <tr style=\"text-align: right;\">\n",
       "      <th></th>\n",
       "      <th>product_id</th>\n",
       "      <th>customer_id</th>\n",
       "      <th>transaction_id</th>\n",
       "      <th>transaction_date</th>\n",
       "      <th>transaction_time</th>\n",
       "      <th>sales_outlet_id</th>\n",
       "      <th>staff_id</th>\n",
       "      <th>instore_yn</th>\n",
       "      <th>orders</th>\n",
       "      <th>line_item_id</th>\n",
       "      <th>...</th>\n",
       "      <th>current_retail_price</th>\n",
       "      <th>tax_exempt_yn</th>\n",
       "      <th>promo_yn</th>\n",
       "      <th>new_product_yn</th>\n",
       "      <th>pa_sales_outlet_id</th>\n",
       "      <th>pa_transaction_date</th>\n",
       "      <th>start_of_day</th>\n",
       "      <th>quantity_sold</th>\n",
       "      <th>waste</th>\n",
       "      <th>perct_waste</th>\n",
       "    </tr>\n",
       "  </thead>\n",
       "  <tbody>\n",
       "    <tr>\n",
       "      <th>0</th>\n",
       "      <td>52</td>\n",
       "      <td>558</td>\n",
       "      <td>7</td>\n",
       "      <td>2019-04-01</td>\n",
       "      <td>12:04:43</td>\n",
       "      <td>3</td>\n",
       "      <td>12</td>\n",
       "      <td>N</td>\n",
       "      <td>1</td>\n",
       "      <td>1</td>\n",
       "      <td>...</td>\n",
       "      <td>$2.50</td>\n",
       "      <td>Y</td>\n",
       "      <td>N</td>\n",
       "      <td>N</td>\n",
       "      <td>NaN</td>\n",
       "      <td>NaN</td>\n",
       "      <td>NaN</td>\n",
       "      <td>NaN</td>\n",
       "      <td>NaN</td>\n",
       "      <td>NaN</td>\n",
       "    </tr>\n",
       "    <tr>\n",
       "      <th>1</th>\n",
       "      <td>27</td>\n",
       "      <td>781</td>\n",
       "      <td>11</td>\n",
       "      <td>2019-04-01</td>\n",
       "      <td>15:54:39</td>\n",
       "      <td>3</td>\n",
       "      <td>17</td>\n",
       "      <td>N</td>\n",
       "      <td>1</td>\n",
       "      <td>1</td>\n",
       "      <td>...</td>\n",
       "      <td>$3.50</td>\n",
       "      <td>Y</td>\n",
       "      <td>N</td>\n",
       "      <td>N</td>\n",
       "      <td>NaN</td>\n",
       "      <td>NaN</td>\n",
       "      <td>NaN</td>\n",
       "      <td>NaN</td>\n",
       "      <td>NaN</td>\n",
       "      <td>NaN</td>\n",
       "    </tr>\n",
       "    <tr>\n",
       "      <th>2</th>\n",
       "      <td>46</td>\n",
       "      <td>788</td>\n",
       "      <td>19</td>\n",
       "      <td>2019-04-01</td>\n",
       "      <td>14:34:59</td>\n",
       "      <td>3</td>\n",
       "      <td>17</td>\n",
       "      <td>Y</td>\n",
       "      <td>1</td>\n",
       "      <td>1</td>\n",
       "      <td>...</td>\n",
       "      <td>$2.50</td>\n",
       "      <td>Y</td>\n",
       "      <td>N</td>\n",
       "      <td>N</td>\n",
       "      <td>NaN</td>\n",
       "      <td>NaN</td>\n",
       "      <td>NaN</td>\n",
       "      <td>NaN</td>\n",
       "      <td>NaN</td>\n",
       "      <td>NaN</td>\n",
       "    </tr>\n",
       "    <tr>\n",
       "      <th>3</th>\n",
       "      <td>23</td>\n",
       "      <td>683</td>\n",
       "      <td>32</td>\n",
       "      <td>2019-04-01</td>\n",
       "      <td>16:06:04</td>\n",
       "      <td>3</td>\n",
       "      <td>12</td>\n",
       "      <td>N</td>\n",
       "      <td>1</td>\n",
       "      <td>1</td>\n",
       "      <td>...</td>\n",
       "      <td>$2.50</td>\n",
       "      <td>Y</td>\n",
       "      <td>N</td>\n",
       "      <td>N</td>\n",
       "      <td>NaN</td>\n",
       "      <td>NaN</td>\n",
       "      <td>NaN</td>\n",
       "      <td>NaN</td>\n",
       "      <td>NaN</td>\n",
       "      <td>NaN</td>\n",
       "    </tr>\n",
       "    <tr>\n",
       "      <th>4</th>\n",
       "      <td>34</td>\n",
       "      <td>99</td>\n",
       "      <td>33</td>\n",
       "      <td>2019-04-01</td>\n",
       "      <td>19:18:37</td>\n",
       "      <td>3</td>\n",
       "      <td>17</td>\n",
       "      <td>Y</td>\n",
       "      <td>1</td>\n",
       "      <td>1</td>\n",
       "      <td>...</td>\n",
       "      <td>$2.45</td>\n",
       "      <td>Y</td>\n",
       "      <td>N</td>\n",
       "      <td>N</td>\n",
       "      <td>NaN</td>\n",
       "      <td>NaN</td>\n",
       "      <td>NaN</td>\n",
       "      <td>NaN</td>\n",
       "      <td>NaN</td>\n",
       "      <td>NaN</td>\n",
       "    </tr>\n",
       "  </tbody>\n",
       "</table>\n",
       "<p>5 rows × 39 columns</p>\n",
       "</div>"
      ],
      "text/plain": [
       "   product_id  customer_id  transaction_id transaction_date transaction_time  \\\n",
       "0          52          558               7       2019-04-01         12:04:43   \n",
       "1          27          781              11       2019-04-01         15:54:39   \n",
       "2          46          788              19       2019-04-01         14:34:59   \n",
       "3          23          683              32       2019-04-01         16:06:04   \n",
       "4          34           99              33       2019-04-01         19:18:37   \n",
       "\n",
       "   sales_outlet_id  staff_id instore_yn  orders  line_item_id  ...  \\\n",
       "0                3        12          N       1             1  ...   \n",
       "1                3        17          N       1             1  ...   \n",
       "2                3        17          Y       1             1  ...   \n",
       "3                3        12          N       1             1  ...   \n",
       "4                3        17          Y       1             1  ...   \n",
       "\n",
       "   current_retail_price  tax_exempt_yn  promo_yn new_product_yn  \\\n",
       "0                $2.50               Y         N              N   \n",
       "1                $3.50               Y         N              N   \n",
       "2                $2.50               Y         N              N   \n",
       "3                $2.50               Y         N              N   \n",
       "4                $2.45               Y         N              N   \n",
       "\n",
       "   pa_sales_outlet_id pa_transaction_date start_of_day quantity_sold waste  \\\n",
       "0                 NaN                 NaN          NaN           NaN   NaN   \n",
       "1                 NaN                 NaN          NaN           NaN   NaN   \n",
       "2                 NaN                 NaN          NaN           NaN   NaN   \n",
       "3                 NaN                 NaN          NaN           NaN   NaN   \n",
       "4                 NaN                 NaN          NaN           NaN   NaN   \n",
       "\n",
       "  perct_waste  \n",
       "0         NaN  \n",
       "1         NaN  \n",
       "2         NaN  \n",
       "3         NaN  \n",
       "4         NaN  \n",
       "\n",
       "[5 rows x 39 columns]"
      ]
     },
     "execution_count": 5,
     "metadata": {},
     "output_type": "execute_result"
    }
   ],
   "source": [
    "data.head()"
   ]
  },
  {
   "cell_type": "markdown",
   "id": "24bec044",
   "metadata": {},
   "source": [
    "# Data Exploration"
   ]
  },
  {
   "cell_type": "code",
   "execution_count": 6,
   "id": "58521802",
   "metadata": {},
   "outputs": [
    {
     "name": "stdout",
     "output_type": "stream",
     "text": [
      "<class 'pandas.core.frame.DataFrame'>\n",
      "RangeIndex: 280345 entries, 0 to 280344\n",
      "Data columns (total 39 columns):\n",
      " #   Column                   Non-Null Count   Dtype  \n",
      "---  ------                   --------------   -----  \n",
      " 0   product_id               280345 non-null  int64  \n",
      " 1   customer_id              280345 non-null  int64  \n",
      " 2   transaction_id           280345 non-null  int64  \n",
      " 3   transaction_date         280345 non-null  object \n",
      " 4   transaction_time         280345 non-null  object \n",
      " 5   sales_outlet_id          280345 non-null  int64  \n",
      " 6   staff_id                 280345 non-null  int64  \n",
      " 7   instore_yn               280345 non-null  object \n",
      " 8   orders                   280345 non-null  int64  \n",
      " 9   line_item_id             280345 non-null  int64  \n",
      " 10  quantity                 280345 non-null  int64  \n",
      " 11  line_item_amount         280345 non-null  float64\n",
      " 12  unit_price               280345 non-null  float64\n",
      " 13  promo_item_yn            280345 non-null  object \n",
      " 14  home_store               138648 non-null  float64\n",
      " 15  customer_first-name      138648 non-null  object \n",
      " 16  customer_email           138648 non-null  object \n",
      " 17  customer_since           138648 non-null  object \n",
      " 18  loyalty_card_number      138648 non-null  object \n",
      " 19  birthdate                138648 non-null  object \n",
      " 20  gender                   138648 non-null  object \n",
      " 21  birth_year               138648 non-null  float64\n",
      " 22  product_group            280345 non-null  object \n",
      " 23  product_category         280345 non-null  object \n",
      " 24  product_type             280345 non-null  object \n",
      " 25  product                  280345 non-null  object \n",
      " 26  product_description      280345 non-null  object \n",
      " 27  unit_of_measure          280345 non-null  object \n",
      " 28  current_wholesame_price  280345 non-null  float64\n",
      " 29  current_retail_price     280345 non-null  object \n",
      " 30  tax_exempt_yn            280345 non-null  object \n",
      " 31  promo_yn                 280345 non-null  object \n",
      " 32  new_product_yn           280345 non-null  object \n",
      " 33  pa_sales_outlet_id       234267 non-null  float64\n",
      " 34  pa_transaction_date      234267 non-null  object \n",
      " 35  start_of_day             234267 non-null  float64\n",
      " 36  quantity_sold            234267 non-null  float64\n",
      " 37  waste                    234267 non-null  float64\n",
      " 38  perct_waste              234267 non-null  object \n",
      "dtypes: float64(9), int64(8), object(22)\n",
      "memory usage: 83.4+ MB\n"
     ]
    }
   ],
   "source": [
    "data.info()"
   ]
  },
  {
   "cell_type": "code",
   "execution_count": 7,
   "id": "22f89f07",
   "metadata": {},
   "outputs": [
    {
     "data": {
      "text/plain": [
       "(280345, 39)"
      ]
     },
     "execution_count": 7,
     "metadata": {},
     "output_type": "execute_result"
    }
   ],
   "source": [
    "data.shape"
   ]
  },
  {
   "cell_type": "code",
   "execution_count": 8,
   "id": "e6c6c06f",
   "metadata": {},
   "outputs": [
    {
     "data": {
      "text/plain": [
       "product_id                 False\n",
       "customer_id                False\n",
       "transaction_id             False\n",
       "transaction_date           False\n",
       "transaction_time           False\n",
       "sales_outlet_id            False\n",
       "staff_id                   False\n",
       "instore_yn                 False\n",
       "orders                     False\n",
       "line_item_id               False\n",
       "quantity                   False\n",
       "line_item_amount           False\n",
       "unit_price                 False\n",
       "promo_item_yn              False\n",
       "home_store                  True\n",
       "customer_first-name         True\n",
       "customer_email              True\n",
       "customer_since              True\n",
       "loyalty_card_number         True\n",
       "birthdate                   True\n",
       "gender                      True\n",
       "birth_year                  True\n",
       "product_group              False\n",
       "product_category           False\n",
       "product_type               False\n",
       "product                    False\n",
       "product_description        False\n",
       "unit_of_measure            False\n",
       "current_wholesame_price    False\n",
       "current_retail_price       False\n",
       "tax_exempt_yn              False\n",
       "promo_yn                   False\n",
       "new_product_yn             False\n",
       "pa_sales_outlet_id          True\n",
       "pa_transaction_date         True\n",
       "start_of_day                True\n",
       "quantity_sold               True\n",
       "waste                       True\n",
       "perct_waste                 True\n",
       "dtype: bool"
      ]
     },
     "execution_count": 8,
     "metadata": {},
     "output_type": "execute_result"
    }
   ],
   "source": [
    "data.isna().any()"
   ]
  },
  {
   "cell_type": "code",
   "execution_count": null,
   "id": "c17bfe8f",
   "metadata": {},
   "outputs": [],
   "source": [
    "\n"
   ]
  },
  {
   "cell_type": "markdown",
   "id": "f9ffc97b",
   "metadata": {},
   "source": [
    "# Preprocessing"
   ]
  },
  {
   "cell_type": "code",
   "execution_count": 9,
   "id": "3faf1fb4",
   "metadata": {},
   "outputs": [
    {
     "data": {
      "text/plain": [
       "(280345, 39)"
      ]
     },
     "execution_count": 9,
     "metadata": {},
     "output_type": "execute_result"
    }
   ],
   "source": [
    "#Remove duplicated in the DataFrame\n",
    "data.drop_duplicates(subset=None, keep='first', inplace=True, ignore_index=False)\n",
    "data.shape"
   ]
  },
  {
   "cell_type": "code",
   "execution_count": 10,
   "id": "7f9fceb9",
   "metadata": {},
   "outputs": [],
   "source": [
    "# Dataframe to csv\n",
    "#compression_opts = dict(method='zip',\n",
    "#                      archive_name='coffee_refinal.csv')  \n",
    "#data.to_csv('coffee_refinal.zip', index=False,\n",
    "#          compression=compression_opts)"
   ]
  },
  {
   "cell_type": "code",
   "execution_count": 11,
   "id": "ff33058a",
   "metadata": {},
   "outputs": [],
   "source": [
    "# Splitting the dataframes between coffees and pastry\n",
    "\n",
    "#pastry_df = data.loc[(data['product_id'] >= 69) & (data['product_id'] <= 73)]\n",
    "\n",
    "#coffee_df = data.iloc[:, 0:33]"
   ]
  },
  {
   "cell_type": "code",
   "execution_count": 12,
   "id": "9a92cf2b",
   "metadata": {},
   "outputs": [],
   "source": [
    "# Creating new column 'unit_price_range' splitting the prizes in 3 ranges\n",
    "\n",
    "#data.loc[(data.unit_price <= 2.5), 'unit_price_range'] = 1\n",
    "#data.loc[(data.unit_price < 10) & (data.unit_price > 2.5) , 'unit_price_range'] = 2\n",
    "#data.loc[(data.unit_price >= 10 ), 'unit_price_range'] = 3"
   ]
  },
  {
   "cell_type": "markdown",
   "id": "1b0e8106",
   "metadata": {},
   "source": [
    "#### unit_price_range = 1 --> LOW (<2.5 €)\n",
    "\n",
    "#### unit_price_range = 2 --> MEDIUM ( 2.5 > 10 €)\n",
    "\n",
    "#### unit_price_range = 3 --> HIGH (<10 €)"
   ]
  },
  {
   "cell_type": "code",
   "execution_count": 13,
   "id": "a2c482a0",
   "metadata": {},
   "outputs": [],
   "source": [
    "data['is_cheap'] = (data[\"unit_price\"] <= 3.5)"
   ]
  },
  {
   "cell_type": "code",
   "execution_count": 14,
   "id": "cd239999",
   "metadata": {},
   "outputs": [
    {
     "data": {
      "text/plain": [
       "True     165994\n",
       "False    114351\n",
       "Name: is_cheap, dtype: int64"
      ]
     },
     "execution_count": 14,
     "metadata": {},
     "output_type": "execute_result"
    }
   ],
   "source": [
    "data['is_cheap'].value_counts()\n",
    "# True is cheapper than 3.5 €\n",
    "#False is more expensive than 3.5€"
   ]
  },
  {
   "cell_type": "code",
   "execution_count": 15,
   "id": "94600d4c",
   "metadata": {},
   "outputs": [],
   "source": [
    "data['is_morning']= (data[\"transaction_time\"] >= '05:00:00') & (data[\"transaction_time\"] <= '12:00:00')"
   ]
  },
  {
   "cell_type": "code",
   "execution_count": 34,
   "id": "8739034b",
   "metadata": {},
   "outputs": [],
   "source": [
    "data.loc[(data.birth_year <= 1969), 'generation'] = 1\n",
    "data.loc[(data.birth_year > 1969) & (data.birth_year < 1990 ) , 'generation'] = 2\n",
    "data.loc[(data.birth_year >= 1990 ), 'generation'] = 3"
   ]
  },
  {
   "cell_type": "code",
   "execution_count": 16,
   "id": "7db19908",
   "metadata": {},
   "outputs": [],
   "source": [
    "data[\"transaction_date\"] = data[\"transaction_date\"].apply(pd.to_datetime)\n",
    "\n",
    "data[\"weekday\"] = data[\"transaction_date\"].dt.strftime('%w')\n",
    "\n",
    "# %w\tDay of the week where Sunday=0 and Saturday=6"
   ]
  },
  {
   "cell_type": "code",
   "execution_count": 17,
   "id": "d4f1c9d3",
   "metadata": {},
   "outputs": [
    {
     "data": {
      "text/plain": [
       "Index(['product_id', 'customer_id', 'transaction_id', 'transaction_date',\n",
       "       'transaction_time', 'sales_outlet_id', 'staff_id', 'instore_yn',\n",
       "       'orders', 'line_item_id', 'quantity', 'line_item_amount', 'unit_price',\n",
       "       'promo_item_yn', 'home_store', 'customer_first-name', 'customer_email',\n",
       "       'customer_since', 'loyalty_card_number', 'birthdate', 'gender',\n",
       "       'birth_year', 'product_group', 'product_category', 'product_type',\n",
       "       'product', 'product_description', 'unit_of_measure',\n",
       "       'current_wholesame_price', 'current_retail_price', 'tax_exempt_yn',\n",
       "       'promo_yn', 'new_product_yn', 'pa_sales_outlet_id',\n",
       "       'pa_transaction_date', 'start_of_day', 'quantity_sold', 'waste',\n",
       "       'perct_waste', 'is_cheap', 'is_morning', 'weekday'],\n",
       "      dtype='object')"
      ]
     },
     "execution_count": 17,
     "metadata": {},
     "output_type": "execute_result"
    }
   ],
   "source": [
    "data.columns"
   ]
  },
  {
   "cell_type": "code",
   "execution_count": null,
   "id": "086ed107",
   "metadata": {},
   "outputs": [],
   "source": []
  },
  {
   "cell_type": "code",
   "execution_count": 19,
   "id": "6469f997",
   "metadata": {},
   "outputs": [],
   "source": [
    "# Choosing features and dropping duplicates/NaNs. Maybe include 'instore_yn', 'product_group', 'new_product_yn', 'product_type'\n",
    "\n",
    "X = data.loc[:, ['gender', 'weekday', 'is_morning',\n",
    "             'product_group', 'line_item_amount', 'is_cheap']]\n",
    "\n",
    "X.drop_duplicates(keep='first', inplace=True, ignore_index=False)\n",
    "\n",
    "X.dropna(inplace=True)\n",
    "\n",
    "\n",
    "y = X.loc[:,'is_cheap']\n",
    "X = X.loc[:,['gender', 'weekday', 'is_morning',\n",
    "             'product_group', 'line_item_amount']]"
   ]
  },
  {
   "cell_type": "code",
   "execution_count": 20,
   "id": "28fb44e8",
   "metadata": {},
   "outputs": [
    {
     "name": "stdout",
     "output_type": "stream",
     "text": [
      "<class 'pandas.core.frame.DataFrame'>\n",
      "Int64Index: 2061 entries, 0 to 280269\n",
      "Data columns (total 5 columns):\n",
      " #   Column            Non-Null Count  Dtype  \n",
      "---  ------            --------------  -----  \n",
      " 0   gender            2061 non-null   object \n",
      " 1   weekday           2061 non-null   object \n",
      " 2   is_morning        2061 non-null   bool   \n",
      " 3   product_group     2061 non-null   object \n",
      " 4   line_item_amount  2061 non-null   float64\n",
      "dtypes: bool(1), float64(1), object(3)\n",
      "memory usage: 82.5+ KB\n"
     ]
    }
   ],
   "source": [
    "X.info()"
   ]
  },
  {
   "cell_type": "code",
   "execution_count": 21,
   "id": "04dfb901",
   "metadata": {},
   "outputs": [
    {
     "name": "stdout",
     "output_type": "stream",
     "text": [
      "Nb rows X_train = 1442\n",
      "Nb rows X_test = 619\n",
      "Nb rows y_train = 1442\n",
      "Nb rows y_test = 619\n"
     ]
    }
   ],
   "source": [
    "#Train/Test split\n",
    "X_train, X_test, y_train, y_test = train_test_split(X, y, test_size=0.3, random_state=2)\n",
    "\n",
    "print(\"Nb rows X_train = {}\".format(len(X_train)))\n",
    "print(\"Nb rows X_test = {}\".format(len(X_test)))\n",
    "print(\"Nb rows y_train = {}\".format(len(y_train)))\n",
    "print(\"Nb rows y_test = {}\".format(len(y_test)))"
   ]
  },
  {
   "cell_type": "code",
   "execution_count": 22,
   "id": "14f8e033",
   "metadata": {},
   "outputs": [],
   "source": [
    "# Encoding categorical features and standardizing numeric features\n",
    "\n",
    "numeric_features = [4] # Choose which column index we are going to scale\n",
    "numeric_transformer = StandardScaler()\n",
    "\n",
    "categorical_features = [0, 1, 2, 3] \n",
    "categorical_transformer = OneHotEncoder()\n",
    "\n",
    "\n",
    "# Apply ColumnTransformer to create a pipeline that will apply the above preprocessing\n",
    "feature_encoder = ColumnTransformer(\n",
    "    transformers=[\n",
    "        ('cat', categorical_transformer, categorical_features),    \n",
    "        ('num', numeric_transformer, numeric_features)\n",
    "        ]\n",
    "    )\n",
    "\n",
    "\n",
    "X_train = feature_encoder.fit_transform(X_train)\n",
    "X_test = feature_encoder.transform(X_test)\n",
    "\n",
    "\n",
    "#Encoding target variable\n",
    "encoder = LabelEncoder()\n",
    "y_train = encoder.fit_transform(y_train)\n",
    "y_test = encoder.transform(y_test)"
   ]
  },
  {
   "cell_type": "markdown",
   "id": "721fe0d4",
   "metadata": {},
   "source": [
    "## MODELING"
   ]
  },
  {
   "cell_type": "code",
   "execution_count": 23,
   "id": "9766217d",
   "metadata": {},
   "outputs": [],
   "source": [
    "model1 = LogisticRegression()\n",
    "model2 = DecisionTreeRegressor()\n",
    "model3 = RandomForestRegressor()"
   ]
  },
  {
   "cell_type": "code",
   "execution_count": null,
   "id": "e00d2915",
   "metadata": {},
   "outputs": [],
   "source": []
  },
  {
   "cell_type": "code",
   "execution_count": 24,
   "id": "e2d558ea",
   "metadata": {},
   "outputs": [],
   "source": [
    "def Log_Reg(model):\n",
    "\n",
    "    model.fit(X_train, y_train)\n",
    "        \n",
    "    # Evaluation of the model\n",
    "    pred_train = model.predict(X_train)\n",
    "    pred_test = model.predict(X_test)\n",
    "        \n",
    "    print(classification_report(y_train, pred_train))\n",
    "    print(classification_report(y_test, pred_test))\n",
    "    \n",
    "    # Visualize confusion matrices\n",
    "    _ , ax = plt.subplots() # Get subplot from matplotlib\n",
    "    ax.set(title=\"Confusion Matrix on Train set\") # Set a title that we will add into ConfusionMatrixDisplay\n",
    "    ConfusionMatrixDisplay.from_estimator(model, X_train, y_train, ax=ax) # ConfusionMatrixDisplay from sklearn\n",
    "    plt.show()\n",
    "\n",
    "    _ , ax = plt.subplots() # Get subplot from matplotlib\n",
    "    ax.set(title=\"Confusion Matrix on Test set\") # Set a title that we will add into ConfusionMatrixDisplay\n",
    "    ConfusionMatrixDisplay.from_estimator(model, X_test, y_test, ax=ax) # ConfusionMatrixDisplay from sklearn"
   ]
  },
  {
   "cell_type": "code",
   "execution_count": 25,
   "id": "8809aee6",
   "metadata": {},
   "outputs": [],
   "source": [
    "def ran_for(model, forest):\n",
    "\n",
    "    model.fit(X_train, y_train)\n",
    "    \n",
    "    # Evaluation of the model\n",
    "    print(\"Train Score : {}\".format(model.score(X_train, y_train)))\n",
    "    print('Test Score : {}'.format(model.score(X_test, y_test)))\n",
    "    "
   ]
  },
  {
   "cell_type": "code",
   "execution_count": 26,
   "id": "c04ea517",
   "metadata": {},
   "outputs": [],
   "source": [
    "def dec_tree(model, leaf):\n",
    "    \n",
    "    model.fit(X_train, y_train)\n",
    "    \n",
    "    # Evaluation of the model\n",
    "    print(\"Train Score : {}\".format(model.score(X_train, y_train)))\n",
    "    print('Test Score : {}'.format(model.score(X_test, y_test)))\n",
    "    \n",
    " "
   ]
  },
  {
   "cell_type": "code",
   "execution_count": 27,
   "id": "c9e548f4",
   "metadata": {},
   "outputs": [
    {
     "name": "stdout",
     "output_type": "stream",
     "text": [
      "              precision    recall  f1-score   support\n",
      "\n",
      "           0       0.81      0.63      0.71       651\n",
      "           1       0.74      0.88      0.80       791\n",
      "\n",
      "    accuracy                           0.77      1442\n",
      "   macro avg       0.78      0.75      0.76      1442\n",
      "weighted avg       0.77      0.77      0.76      1442\n",
      "\n",
      "              precision    recall  f1-score   support\n",
      "\n",
      "           0       0.85      0.69      0.76       285\n",
      "           1       0.77      0.90      0.83       334\n",
      "\n",
      "    accuracy                           0.80       619\n",
      "   macro avg       0.81      0.79      0.80       619\n",
      "weighted avg       0.81      0.80      0.80       619\n",
      "\n"
     ]
    },
    {
     "data": {
      "image/png": "[encoded data removed]",
      "text/plain": [
       "<Figure size 432x288 with 2 Axes>"
      ]
     },
     "metadata": {
      "needs_background": "light"
     },
     "output_type": "display_data"
    },
    {
     "data": {
      "image/png": "[encoded data removed]",
      "text/plain": [
       "<Figure size 432x288 with 2 Axes>"
      ]
     },
     "metadata": {
      "needs_background": "light"
     },
     "output_type": "display_data"
    }
   ],
   "source": [
    "Log_Reg(model1)"
   ]
  },
  {
   "cell_type": "code",
   "execution_count": 40,
   "id": "25267590",
   "metadata": {},
   "outputs": [
    {
     "name": "stdout",
     "output_type": "stream",
     "text": [
      "Train Score : 0.9185192417730982\n",
      "Test Score : 0.732909714486941\n"
     ]
    }
   ],
   "source": [
    "#Random Forest\n",
    "ran_for(model3, 200)"
   ]
  },
  {
   "cell_type": "code",
   "execution_count": 41,
   "id": "2aacf31f",
   "metadata": {},
   "outputs": [
    {
     "name": "stdout",
     "output_type": "stream",
     "text": [
      "Train Score : 0.925791498443511\n",
      "Test Score : 0.6293413173652695\n"
     ]
    }
   ],
   "source": [
    "#Decision Tree\n",
    "dec_tree(model2, 3)"
   ]
  },
  {
   "cell_type": "code",
   "execution_count": null,
   "id": "6950213b",
   "metadata": {},
   "outputs": [],
   "source": []
  },
  {
   "cell_type": "markdown",
   "id": "ff49382d",
   "metadata": {},
   "source": [
    "# Visualizations"
   ]
  },
  {
   "cell_type": "code",
   "execution_count": 35,
   "id": "eebde59f",
   "metadata": {},
   "outputs": [
    {
     "name": "stdout",
     "output_type": "stream",
     "text": [
      "<class 'pandas.core.frame.DataFrame'>\n",
      "Int64Index: 280345 entries, 0 to 280344\n",
      "Data columns (total 43 columns):\n",
      " #   Column                   Non-Null Count   Dtype         \n",
      "---  ------                   --------------   -----         \n",
      " 0   product_id               280345 non-null  int64         \n",
      " 1   customer_id              280345 non-null  int64         \n",
      " 2   transaction_id           280345 non-null  int64         \n",
      " 3   transaction_date         280345 non-null  datetime64[ns]\n",
      " 4   transaction_time         280345 non-null  object        \n",
      " 5   sales_outlet_id          280345 non-null  int64         \n",
      " 6   staff_id                 280345 non-null  int64         \n",
      " 7   instore_yn               280345 non-null  object        \n",
      " 8   orders                   280345 non-null  int64         \n",
      " 9   line_item_id             280345 non-null  int64         \n",
      " 10  quantity                 280345 non-null  int64         \n",
      " 11  line_item_amount         280345 non-null  float64       \n",
      " 12  unit_price               280345 non-null  float64       \n",
      " 13  promo_item_yn            280345 non-null  object        \n",
      " 14  home_store               138648 non-null  float64       \n",
      " 15  customer_first-name      138648 non-null  object        \n",
      " 16  customer_email           138648 non-null  object        \n",
      " 17  customer_since           138648 non-null  object        \n",
      " 18  loyalty_card_number      138648 non-null  object        \n",
      " 19  birthdate                138648 non-null  object        \n",
      " 20  gender                   138648 non-null  object        \n",
      " 21  birth_year               138648 non-null  float64       \n",
      " 22  product_group            280345 non-null  object        \n",
      " 23  product_category         280345 non-null  object        \n",
      " 24  product_type             280345 non-null  object        \n",
      " 25  product                  280345 non-null  object        \n",
      " 26  product_description      280345 non-null  object        \n",
      " 27  unit_of_measure          280345 non-null  object        \n",
      " 28  current_wholesame_price  280345 non-null  float64       \n",
      " 29  current_retail_price     280345 non-null  object        \n",
      " 30  tax_exempt_yn            280345 non-null  object        \n",
      " 31  promo_yn                 280345 non-null  object        \n",
      " 32  new_product_yn           280345 non-null  object        \n",
      " 33  pa_sales_outlet_id       234267 non-null  float64       \n",
      " 34  pa_transaction_date      234267 non-null  object        \n",
      " 35  start_of_day             234267 non-null  float64       \n",
      " 36  quantity_sold            234267 non-null  float64       \n",
      " 37  waste                    234267 non-null  float64       \n",
      " 38  perct_waste              234267 non-null  object        \n",
      " 39  is_cheap                 280345 non-null  bool          \n",
      " 40  is_morning               280345 non-null  bool          \n",
      " 41  weekday                  280345 non-null  object        \n",
      " 42  generation               138648 non-null  float64       \n",
      "dtypes: bool(2), datetime64[ns](1), float64(10), int64(8), object(22)\n",
      "memory usage: 90.4+ MB\n"
     ]
    }
   ],
   "source": [
    "data.info()"
   ]
  },
  {
   "cell_type": "code",
   "execution_count": 36,
   "id": "3423cfea",
   "metadata": {},
   "outputs": [],
   "source": [
    "data_viz = data.iloc[: , [5, 11, 12, 14, 20, 22, 39, 40, 41, 42]]"
   ]
  },
  {
   "cell_type": "code",
   "execution_count": 37,
   "id": "f2c974f2",
   "metadata": {},
   "outputs": [],
   "source": [
    "numerical = data_viz.select_dtypes(exclude = object)\n",
    "categorical = data_viz.select_dtypes(include = object)"
   ]
  },
  {
   "cell_type": "code",
   "execution_count": null,
   "id": "cf67cbd5",
   "metadata": {},
   "outputs": [],
   "source": [
    "# Distribution plots"
   ]
  },
  {
   "cell_type": "code",
   "execution_count": 38,
   "id": "cd8d4170",
   "metadata": {},
   "outputs": [
    {
     "data": {
      "image/png": "[encoded data removed]",
      "text/plain": [
       "<Figure size 432x288 with 1 Axes>"
      ]
     },
     "metadata": {
      "needs_background": "light"
     },
     "output_type": "display_data"
    },
    {
     "data": {
      "image/png": "[encoded data removed]",
      "text/plain": [
       "<Figure size 432x288 with 1 Axes>"
      ]
     },
     "metadata": {
      "needs_background": "light"
     },
     "output_type": "display_data"
    },
    {
     "data": {
      "image/png": "[encoded data removed]",
      "text/plain": [
       "<Figure size 432x288 with 1 Axes>"
      ]
     },
     "metadata": {
      "needs_background": "light"
     },
     "output_type": "display_data"
    }
   ],
   "source": [
    "for column in categorical:\n",
    "    plt.figure()\n",
    "    sns.countplot(x=column, data=categorical)\n",
    "    plt.show()"
   ]
  },
  {
   "cell_type": "code",
   "execution_count": 39,
   "id": "a44f7a01",
   "metadata": {},
   "outputs": [
    {
     "name": "stderr",
     "output_type": "stream",
     "text": [
      "C:\\Users\\alber\\anaconda3\\lib\\site-packages\\seaborn\\distributions.py:2557: FutureWarning: `distplot` is a deprecated function and will be removed in a future version. Please adapt your code to use either `displot` (a figure-level function with similar flexibility) or `histplot` (an axes-level function for histograms).\n",
      "  warnings.warn(msg, FutureWarning)\n"
     ]
    },
    {
     "data": {
      "image/png": "[encoded data removed]",
      "text/plain": [
       "<Figure size 432x288 with 1 Axes>"
      ]
     },
     "metadata": {
      "needs_background": "light"
     },
     "output_type": "display_data"
    },
    {
     "name": "stderr",
     "output_type": "stream",
     "text": [
      "C:\\Users\\alber\\anaconda3\\lib\\site-packages\\seaborn\\distributions.py:2557: FutureWarning: `distplot` is a deprecated function and will be removed in a future version. Please adapt your code to use either `displot` (a figure-level function with similar flexibility) or `histplot` (an axes-level function for histograms).\n",
      "  warnings.warn(msg, FutureWarning)\n"
     ]
    },
    {
     "data": {
      "image/png": "[encoded data removed]",
      "text/plain": [
       "<Figure size 432x288 with 1 Axes>"
      ]
     },
     "metadata": {
      "needs_background": "light"
     },
     "output_type": "display_data"
    },
    {
     "name": "stderr",
     "output_type": "stream",
     "text": [
      "C:\\Users\\alber\\anaconda3\\lib\\site-packages\\seaborn\\distributions.py:2557: FutureWarning: `distplot` is a deprecated function and will be removed in a future version. Please adapt your code to use either `displot` (a figure-level function with similar flexibility) or `histplot` (an axes-level function for histograms).\n",
      "  warnings.warn(msg, FutureWarning)\n"
     ]
    },
    {
     "data": {
      "image/png": "[encoded data removed]",
      "text/plain": [
       "<Figure size 432x288 with 1 Axes>"
      ]
     },
     "metadata": {
      "needs_background": "light"
     },
     "output_type": "display_data"
    },
    {
     "name": "stderr",
     "output_type": "stream",
     "text": [
      "C:\\Users\\alber\\anaconda3\\lib\\site-packages\\seaborn\\distributions.py:2557: FutureWarning: `distplot` is a deprecated function and will be removed in a future version. Please adapt your code to use either `displot` (a figure-level function with similar flexibility) or `histplot` (an axes-level function for histograms).\n",
      "  warnings.warn(msg, FutureWarning)\n"
     ]
    },
    {
     "data": {
      "image/png": "[encoded data removed]",
      "text/plain": [
       "<Figure size 432x288 with 1 Axes>"
      ]
     },
     "metadata": {
      "needs_background": "light"
     },
     "output_type": "display_data"
    },
    {
     "name": "stderr",
     "output_type": "stream",
     "text": [
      "C:\\Users\\alber\\anaconda3\\lib\\site-packages\\seaborn\\distributions.py:2557: FutureWarning: `distplot` is a deprecated function and will be removed in a future version. Please adapt your code to use either `displot` (a figure-level function with similar flexibility) or `histplot` (an axes-level function for histograms).\n",
      "  warnings.warn(msg, FutureWarning)\n"
     ]
    },
    {
     "data": {
      "image/png": "[encoded data removed]",
      "text/plain": [
       "<Figure size 432x288 with 1 Axes>"
      ]
     },
     "metadata": {
      "needs_background": "light"
     },
     "output_type": "display_data"
    },
    {
     "name": "stderr",
     "output_type": "stream",
     "text": [
      "C:\\Users\\alber\\anaconda3\\lib\\site-packages\\seaborn\\distributions.py:2557: FutureWarning: `distplot` is a deprecated function and will be removed in a future version. Please adapt your code to use either `displot` (a figure-level function with similar flexibility) or `histplot` (an axes-level function for histograms).\n",
      "  warnings.warn(msg, FutureWarning)\n"
     ]
    },
    {
     "data": {
      "image/png": "[encoded data removed]",
      "text/plain": [
       "<Figure size 432x288 with 1 Axes>"
      ]
     },
     "metadata": {
      "needs_background": "light"
     },
     "output_type": "display_data"
    },
    {
     "name": "stderr",
     "output_type": "stream",
     "text": [
      "C:\\Users\\alber\\anaconda3\\lib\\site-packages\\seaborn\\distributions.py:2557: FutureWarning: `distplot` is a deprecated function and will be removed in a future version. Please adapt your code to use either `displot` (a figure-level function with similar flexibility) or `histplot` (an axes-level function for histograms).\n",
      "  warnings.warn(msg, FutureWarning)\n"
     ]
    },
    {
     "data": {
      "image/png": "[encoded data removed]",
      "text/plain": [
       "<Figure size 432x288 with 1 Axes>"
      ]
     },
     "metadata": {
      "needs_background": "light"
     },
     "output_type": "display_data"
    }
   ],
   "source": [
    "for column in numerical:\n",
    "    sns.distplot(numerical[column], bins = 20)\n",
    "    plt.show()"
   ]
  },
  {
   "cell_type": "code",
   "execution_count": null,
   "id": "ea6efa5a",
   "metadata": {},
   "outputs": [],
   "source": []
  }
 ],
 "metadata": {
  "kernelspec": {
   "display_name": "Python 3",
   "language": "python",
   "name": "python3"
  },
  "language_info": {
   "codemirror_mode": {
    "name": "ipython",
    "version": 3
   },
   "file_extension": ".py",
   "mimetype": "text/x-python",
   "name": "python",
   "nbconvert_exporter": "python",
   "pygments_lexer": "ipython3",
   "version": "3.8.8"
  }
 },
 "nbformat": 4,
 "nbformat_minor": 5
}
