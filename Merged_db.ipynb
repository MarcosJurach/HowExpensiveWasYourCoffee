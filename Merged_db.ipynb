{
 "cells": [
  {
   "cell_type": "code",
   "execution_count": 1,
   "id": "521c8736",
   "metadata": {},
   "outputs": [],
   "source": [
    "import mysql.connector\n",
    "from mysql.connector import connect\n",
    "from getpass import getpass\n",
    "import pandas as pd"
   ]
  },
  {
   "cell_type": "code",
   "execution_count": 2,
   "id": "ed496d0c",
   "metadata": {},
   "outputs": [
    {
     "name": "stdout",
     "output_type": "stream",
     "text": [
      "Enter password: ········\n"
     ]
    }
   ],
   "source": [
    "db = connect(\n",
    "        host= \"localhost\",\n",
    "        user = \"root\",\n",
    "        passwd = getpass(\"Enter password: \"),\n",
    "        database= \"mid_proyect\"\n",
    ")"
   ]
  },
  {
   "cell_type": "code",
   "execution_count": 3,
   "id": "680c1078",
   "metadata": {},
   "outputs": [],
   "source": [
    "cursor = db.cursor()\n",
    "\n",
    "## executing method \n",
    "cursor.execute('SHOW DATABASES')\n",
    "\n",
    "databases = cursor.fetchall()\n",
    "\n",
    "#defining the query\n",
    "query = 'select * from recetes left join customer using(customer_id) left join product using(product_id) left join pastry using (sales_outlet_id)'\n",
    "\n",
    "#get the record\n",
    "cursor.execute(query)\n",
    "\n",
    "#fetch the records of the query\n",
    "records = cursor.fetchall() "
   ]
  },
  {
   "cell_type": "code",
   "execution_count": null,
   "id": "618e2501",
   "metadata": {},
   "outputs": [],
   "source": [
    "coffee_db = pd.DataFrame(records)"
   ]
  },
  {
   "cell_type": "code",
   "execution_count": null,
   "id": "28ddf943",
   "metadata": {},
   "outputs": [],
   "source": [
    "coffee_db"
   ]
  },
  {
   "cell_type": "code",
   "execution_count": null,
   "id": "e6c674cf",
   "metadata": {},
   "outputs": [],
   "source": []
  }
 ],
 "metadata": {
  "kernelspec": {
   "display_name": "Python 3",
   "language": "python",
   "name": "python3"
  },
  "language_info": {
   "codemirror_mode": {
    "name": "ipython",
    "version": 3
   },
   "file_extension": ".py",
   "mimetype": "text/x-python",
   "name": "python",
   "nbconvert_exporter": "python",
   "pygments_lexer": "ipython3",
   "version": "3.8.8"
  }
 },
 "nbformat": 4,
 "nbformat_minor": 5
}
