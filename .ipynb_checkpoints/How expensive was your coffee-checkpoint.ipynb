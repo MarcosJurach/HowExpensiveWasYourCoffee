{
 "cells": [
  {
   "cell_type": "code",
   "execution_count": 1,
   "id": "c0334fa1",
   "metadata": {},
   "outputs": [],
   "source": [
    "import pandas as pd\n",
    "import numpy as np\n",
    "import matplotlib as mpl\n",
    "import matplotlib.pyplot as plt\n",
    "import seaborn as sns\n",
    "from sklearn.preprocessing import StandardScaler, OneHotEncoder\n",
    "from sklearn.model_selection import train_test_split\n",
    "from sklearn.linear_model import LinearRegression\n",
    "from sklearn.tree import DecisionTreeClassifier, DecisionTreeRegressor\n",
    "from sklearn.ensemble import RandomForestClassifier, RandomForestRegressor\n",
    "from sklearn.metrics import confusion_matrix, classification_report, ConfusionMatrixDisplay\n",
    "from sklearn.compose import ColumnTransformer\n",
    "from sklearn import preprocessing\n",
    "from sklearn import utils\n",
    "from sklearn.neighbors import KNeighborsClassifier, KNeighborsRegressor\n",
    "import scipy.stats as stats\n",
    "import math"
   ]
  },
  {
   "cell_type": "code",
   "execution_count": 2,
   "id": "1567f537",
   "metadata": {},
   "outputs": [],
   "source": [
    "# Defining models functions\n",
    "\n",
    "def conf_matrix(classifier, X_test, y_test):\n",
    "    _ , ax = plt.subplots(figsize=(8,8)) # Get subplot from matplotlib\n",
    "    ax.set(title=\"Confusion Matrix on Test set\") # Set a title that we will add into ConfusionMatrixDisplay\n",
    "    ConfusionMatrixDisplay.from_estimator(classifier, X_test, y_test, ax=ax) # ConfusionMatrixDisplay from sklearn\n",
    "    plt.show()\n",
    "    \n",
    "\n",
    "def dec_tree_reg(leaf):\n",
    "    classifier = DecisionTreeRegressor(min_samples_leaf=leaf)\n",
    "    classifier.fit(X_train, y_train)\n",
    "    \n",
    "    # Evaluation of the model\n",
    "    print(\"Evaluation of the Decision Tree model\")\n",
    "    print(\"Train Score : {}\".format(classifier.score(X_train, y_train)))\n",
    "    print('Test Score : {}'.format(classifier.score(X_test, y_test)))    \n",
    "    \n",
    "    \n",
    "def dec_tree_class(leaf):\n",
    "    classifier = DecisionTreeClassifier(min_samples_leaf=leaf)\n",
    "    classifier.fit(X_train, y_train)\n",
    "    \n",
    "    # Evaluation of the model\n",
    "    print(\"Evaluation of the Decision Tree model\")\n",
    "    print(\"Train Score : {}\".format(classifier.score(X_train, y_train)))\n",
    "    print('Test Score : {}'.format(classifier.score(X_test, y_test)))\n",
    "    \n",
    "    # Confusion matrix\n",
    "    conf_matrix(classifier, X_test, y_test)\n",
    "    \n",
    "    \n",
    "def random_forest_reg(forest):\n",
    "    classifier = RandomForestRegressor(n_estimators=forest)\n",
    "    classifier.fit(X_train, y_train)\n",
    "    \n",
    "    # Evaluation of the model\n",
    "    print(\"Evaluation of the Random Forest model\")\n",
    "    print(\"Train Score : {}\".format(classifier.score(X_train, y_train)))\n",
    "    print('Test Score : {}'.format(classifier.score(X_test, y_test)))    \n",
    "\n",
    "    \n",
    "def random_forest_class(forest):\n",
    "    classifier = RandomForestClassifier(n_estimators=forest)\n",
    "    classifier.fit(X_train, y_train)\n",
    "    \n",
    "    # Evaluation of the model\n",
    "    print(\"Evaluation of the Random Forest model\")\n",
    "    print(\"Train Score : {}\".format(classifier.score(X_train, y_train)))\n",
    "    print('Test Score : {}'.format(classifier.score(X_test, y_test)))\n",
    "    \n",
    "    # Confusion matrix\n",
    "    conf_matrix(classifier, X_test, y_test)\n",
    "    \n",
    "    \n",
    "def KNN_reg (n_neighbors):\n",
    "    classifier = KNeighborsRegressor(n_neighbors = n_neighbors)\n",
    "    classifier.fit(X_train, y_train)\n",
    "    \n",
    "    # Evaluation of the model\n",
    "    print(\"Evaluation of the KNN model\")\n",
    "    print(\"Train Score : {}\".format(classifier.score(X_train, y_train)))\n",
    "    print('Test Score : {}'.format(classifier.score(X_test, y_test)))   \n",
    "\n",
    "    \n",
    "def KNN_class (n_neighbors):\n",
    "    classifier = KNeighborsClassifier(n_neighbors = n_neighbors)\n",
    "    classifier.fit(X_train, y_train)\n",
    "    \n",
    "    # Evaluation of the model\n",
    "    print(\"Evaluation of the KNN model\")\n",
    "    print(\"Train Score : {}\".format(classifier.score(X_train, y_train)))\n",
    "    print('Test Score : {}'.format(classifier.score(X_test, y_test)))   \n",
    "    \n",
    "    # Confusion matrix\n",
    "    conf_matrix(classifier, X_test, y_test)"
   ]
  },
  {
   "cell_type": "code",
   "execution_count": 3,
   "id": "742ffc75",
   "metadata": {},
   "outputs": [],
   "source": [
    "# Business understanding: what do we have on the data and a menu analysis\n",
    "coffee_db = pd.read_csv('coffee.csv')\n",
    "coffee_db.rename(columns = {'0':'sales_outlet_id', '1':'product_id',\n",
    "                            '2':'customer_id', '3':'transaction_id',\n",
    "                            '4':'transaction_date',\n",
    "                            '5':'transaction_time', '6':'staff_id',\n",
    "                            '7':'instore_yn', '8':'orders',\n",
    "                            '9': 'line_item_id', '10': 'quantity',\n",
    "                            '11':'line_item_amount', '12':'unit_price',\n",
    "                            '13': 'promo_item_yn', '14':'home_store',\n",
    "                            '15':'customer_first-name',\n",
    "                            '16':'customer_email', '17':'customer_since',\n",
    "                            '18':'loyalty_card_number',\n",
    "                            '19': 'birthdate', '20':'gender',\n",
    "                            '21':'birth_year', '22':'product_group',\n",
    "                            '23':'product_category', '24':'product_type',\n",
    "                            '25':'product', '26':'product_description',\n",
    "                            '27':'unit_of_measure', '28':'current_wholesame_price',\n",
    "                            '29':'current_retail_price', '30':'tax_exempt_yn',\n",
    "                            '31':'promo_yn','32':'new_product_yn','33':'transaction_date',\n",
    "                            '34':'product_id', '35':'start_of_day', '36':'quantity_sold',\n",
    "                            '37': 'waste', '38':'%waste'\n",
    "                           }, inplace = True)"
   ]
  },
  {
   "cell_type": "code",
   "execution_count": 4,
   "id": "30c12e24",
   "metadata": {},
   "outputs": [],
   "source": [
    "# Creating new features based\n",
    "coffee_db.loc[(coffee_db.birth_year <= 1969), 'generation'] = 'Senior'\n",
    "coffee_db.loc[(coffee_db.birth_year > 1969) & (coffee_db.birth_year < 1990 ) , 'generation'] = 'Middle aged'\n",
    "coffee_db.loc[(coffee_db.birth_year >= 1990 ), 'generation'] = 'Young'\n",
    "\n",
    "coffee_db.loc[(coffee_db[\"transaction_time\"] >= '06:00:00') & (coffee_db[\"transaction_time\"] <= '12:00:00'), 'period'] = 'Morning'\n",
    "coffee_db.loc[(coffee_db[\"transaction_time\"] <= '06 :00:00'), 'period'] = 'Night'\n",
    "coffee_db.loc[(coffee_db[\"transaction_time\"] >= '12 :00:00'), 'period'] = 'Evening'\n",
    "\n",
    "coffee_db.loc[(coffee_db.line_item_amount <= 4), 'price_evalution'] = 'Cheap'\n",
    "coffee_db.loc[(coffee_db.line_item_amount > 4) & (coffee_db.line_item_amount <= 8 ) , 'price_evalution'] = 'Average'\n",
    "coffee_db.loc[(coffee_db.line_item_amount > 8 ), 'price_evalution'] = 'Expensive'"
   ]
  },
  {
   "cell_type": "markdown",
   "id": "32040ebe",
   "metadata": {},
   "source": [
    "# What if the target variable is the price of the purchase as a continuous distribution?"
   ]
  },
  {
   "cell_type": "code",
   "execution_count": 5,
   "id": "261472d4",
   "metadata": {},
   "outputs": [],
   "source": [
    "# Choosing features and dropping duplicates/NaNs\n",
    "X = coffee_db.loc[:,['transaction_id', 'product_id', 'gender', \n",
    "                     'generation', 'instore_yn', 'product_group',\n",
    "                     'line_item_amount', 'period','price_evalution']]\n",
    "\n",
    "X.drop_duplicates(subset=['transaction_id', 'product_id'], keep='first', inplace=True, ignore_index=False)\n",
    "X.dropna(inplace=True)\n",
    "\n",
    "\n",
    "# Train and test split\n",
    "y = X.loc[:,'line_item_amount']\n",
    "X = X.loc[:,['gender', 'period', 'product_group']]\n",
    "\n",
    "y = y.astype(int)\n",
    "\n",
    "X_train, X_test, y_train, y_test = train_test_split(X, y, test_size=0.2, random_state=0)"
   ]
  },
  {
   "cell_type": "code",
   "execution_count": 6,
   "id": "cbb88a18",
   "metadata": {},
   "outputs": [],
   "source": [
    "# Encoding categorical features and standardizing numeric features\n",
    "\n",
    "numeric_features = [] # Choose which column index we are going to scale\n",
    "numeric_transformer = StandardScaler()\n",
    "\n",
    "categorical_features = [0,1,2] \n",
    "categorical_transformer = OneHotEncoder()\n",
    "\n",
    "\n",
    "# Apply ColumnTransformer to create a pipeline that will apply the above preprocessing\n",
    "feature_encoder = ColumnTransformer(\n",
    "    transformers=[\n",
    "        ('cat', categorical_transformer, categorical_features),    \n",
    "        ('num', numeric_transformer, numeric_features)\n",
    "        ]\n",
    "    )\n",
    "X_train = feature_encoder.fit_transform(X_train)\n",
    "X_test = feature_encoder.transform(X_test)\n",
    "y_train = y_train.to_numpy()\n",
    "y_test = y_test.to_numpy()"
   ]
  },
  {
   "cell_type": "code",
   "execution_count": 7,
   "id": "cf657fc5",
   "metadata": {},
   "outputs": [
    {
     "name": "stdout",
     "output_type": "stream",
     "text": [
      "Evaluation of the Decision Tree model\n",
      "Train Score : 0.24643558343648597\n",
      "Test Score : 0.37773460898342426\n",
      "Evaluation of the Random Forest model\n",
      "Train Score : 0.24825614336528734\n",
      "Test Score : 0.3690113295737073\n",
      "Evaluation of the KNN model\n",
      "Train Score : 0.11465667539085178\n",
      "Test Score : 0.04173759634451146\n"
     ]
    }
   ],
   "source": [
    "# Testing the models\n",
    "dec_tree_reg(30)\n",
    "\n",
    "random_forest_reg(100)\n",
    "\n",
    "KNN_reg(3)"
   ]
  },
  {
   "cell_type": "markdown",
   "id": "e2368494",
   "metadata": {},
   "source": [
    "# What if the target variable is a evaliation of how expensive the purchase was?"
   ]
  },
  {
   "cell_type": "code",
   "execution_count": 8,
   "id": "8160a0ce",
   "metadata": {},
   "outputs": [],
   "source": [
    "# Choosing features and dropping duplicates/NaNs\n",
    "X = coffee_db.loc[:,['transaction_id', 'product_id', 'gender', \n",
    "                     'generation', 'instore_yn', 'product_group',\n",
    "                     'line_item_amount', 'period', 'price_evalution']]\n",
    "\n",
    "X.drop_duplicates(subset=['transaction_id', 'product_id'], keep='first', inplace=True, ignore_index=False)\n",
    "X.dropna(inplace=True)\n",
    "\n",
    "\n",
    "# Train and test split\n",
    "y = X.loc[:,'price_evalution']\n",
    "X = X.loc[:,['gender', 'period', 'product_group']]\n",
    "\n",
    "X_train, X_test, y_train, y_test = train_test_split(X, y, test_size=0.2, random_state=0)"
   ]
  },
  {
   "cell_type": "code",
   "execution_count": 9,
   "id": "4121bc0b",
   "metadata": {},
   "outputs": [],
   "source": [
    "# Encoding categorical features and standardizing numeric features\n",
    "\n",
    "numeric_features = [] # Choose which column index we are going to scale\n",
    "numeric_transformer = StandardScaler()\n",
    "\n",
    "categorical_features = [0,1,2] \n",
    "categorical_transformer = OneHotEncoder()\n",
    "\n",
    "# Apply ColumnTransformer to create a pipeline that will apply the above preprocessing\n",
    "feature_encoder = ColumnTransformer(\n",
    "    transformers=[\n",
    "        ('cat', categorical_transformer, categorical_features),    \n",
    "        ('num', numeric_transformer, numeric_features)\n",
    "        ]\n",
    "    )\n",
    "X_train = feature_encoder.fit_transform(X_train)\n",
    "X_test = feature_encoder.transform(X_test)\n",
    "y_train = y_train.to_numpy()\n",
    "y_test = y_test.to_numpy()"
   ]
  },
  {
   "cell_type": "code",
   "execution_count": 10,
   "id": "d106169e",
   "metadata": {},
   "outputs": [
    {
     "name": "stdout",
     "output_type": "stream",
     "text": [
      "Evaluation of the Decision Tree model\n",
      "Train Score : 0.5678503292510308\n",
      "Test Score : 0.5621461973910903\n"
     ]
    },
    {
     "data": {
      "image/png": "[encoded data removed]",
      "text/plain": [
       "<Figure size 576x576 with 2 Axes>"
      ]
     },
     "metadata": {
      "needs_background": "light"
     },
     "output_type": "display_data"
    },
    {
     "name": "stdout",
     "output_type": "stream",
     "text": [
      "Evaluation of the Random Forest model\n",
      "Train Score : 0.5678503292510308\n",
      "Test Score : 0.5621461973910903\n"
     ]
    },
    {
     "data": {
      "image/png": "[encoded data removed]",
      "text/plain": [
       "<Figure size 576x576 with 2 Axes>"
      ]
     },
     "metadata": {
      "needs_background": "light"
     },
     "output_type": "display_data"
    },
    {
     "name": "stdout",
     "output_type": "stream",
     "text": [
      "Evaluation of the KNN model\n",
      "Train Score : 0.5464951689334728\n",
      "Test Score : 0.5454097957174502\n"
     ]
    },
    {
     "data": {
      "image/png": "[encoded data removed]",
      "text/plain": [
       "<Figure size 576x576 with 2 Axes>"
      ]
     },
     "metadata": {
      "needs_background": "light"
     },
     "output_type": "display_data"
    }
   ],
   "source": [
    "# Testing the models\n",
    "dec_tree_class(5)\n",
    "\n",
    "random_forest_class(100)\n",
    "\n",
    "KNN_class(2)"
   ]
  },
  {
   "cell_type": "code",
   "execution_count": 11,
   "id": "b6310231",
   "metadata": {},
   "outputs": [
    {
     "name": "stdout",
     "output_type": "stream",
     "text": [
      "We can say with 95% of confidence that the average price for a sale on the coffe is between  4.59  and  4.69\n"
     ]
    }
   ],
   "source": [
    "# Building the confidence interval \n",
    "X = coffee_db.loc[:,['transaction_id', 'product_id', 'gender', \n",
    "                     'generation', 'instore_yn', 'product_group',\n",
    "                     'line_item_amount', 'period', 'price_evalution']]\n",
    "\n",
    "X.drop_duplicates(subset=['transaction_id', 'product_id'], keep='first', inplace=True, ignore_index=False)\n",
    "X.dropna(inplace=True)\n",
    "\n",
    "mean = X.line_item_amount.mean()\n",
    "\n",
    "std = X.line_item_amount.std()\n",
    "\n",
    "n = len(X.line_item_amount)\n",
    "\n",
    " # t-statistics scipy stats\n",
    "t =  stats.t.ppf(0.975, df = n-1) # 0.975 because Gaussian is symmetric and we need divide 0.05/2\n",
    "\n",
    "error = t * std/(math.sqrt(n))\n",
    "confidence_interval = [round(mean - error,2), round(mean + error,2) ]\n",
    "\n",
    "print(\"We can say with 95% of confidence that the average price for a sale on the coffe is between \", confidence_interval[0],\n",
    "      \" and \", confidence_interval[1])"
   ]
  }
 ],
 "metadata": {
  "kernelspec": {
   "display_name": "Python 3 (ipykernel)",
   "language": "python",
   "name": "python3"
  },
  "language_info": {
   "codemirror_mode": {
    "name": "ipython",
    "version": 3
   },
   "file_extension": ".py",
   "mimetype": "text/x-python",
   "name": "python",
   "nbconvert_exporter": "python",
   "pygments_lexer": "ipython3",
   "version": "3.9.12"
  }
 },
 "nbformat": 4,
 "nbformat_minor": 5
}
