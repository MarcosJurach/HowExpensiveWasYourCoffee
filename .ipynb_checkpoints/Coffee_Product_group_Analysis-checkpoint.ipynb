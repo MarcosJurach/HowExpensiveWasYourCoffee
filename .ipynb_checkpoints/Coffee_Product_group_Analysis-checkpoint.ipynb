{
 "cells": [
  {
   "cell_type": "code",
   "execution_count": null,
   "id": "236c7794",
   "metadata": {},
   "outputs": [],
   "source": [
    "# Prediction of Product_group with the explicative features \n",
    "# ['weekday', 'is_morning', 'unit_price_range', 'quantity', 'generation', 'gender']"
   ]
  },
  {
   "cell_type": "code",
   "execution_count": 1,
   "id": "9a67b4a0",
   "metadata": {},
   "outputs": [],
   "source": [
    "import os\n",
    "import pandas as pd\n",
    "import numpy as np\n",
    "import matplotlib as mpl\n",
    "import matplotlib.pyplot as plt\n",
    "from pandas.plotting import scatter_matrix\n",
    "import seaborn as sns\n",
    "from sklearn.preprocessing import StandardScaler, OneHotEncoder, LabelEncoder\n",
    "from sklearn.model_selection import train_test_split\n",
    "from sklearn.linear_model import LinearRegression\n",
    "from sklearn.linear_model import LogisticRegression\n",
    "from sklearn.tree import DecisionTreeClassifier, DecisionTreeRegressor\n",
    "from sklearn.ensemble import RandomForestClassifier, RandomForestRegressor\n",
    "from sklearn.metrics import confusion_matrix, classification_report, ConfusionMatrixDisplay, RocCurveDisplay\n",
    "from sklearn.compose import ColumnTransformer\n",
    "from sklearn import preprocessing\n",
    "from sklearn import utils\n",
    "from sklearn.neighbors import KNeighborsClassifier, KNeighborsRegressor\n",
    "\n",
    "import math as m\n",
    "import scipy.stats as stats"
   ]
  },
  {
   "cell_type": "code",
   "execution_count": 14,
   "id": "02fbad90",
   "metadata": {},
   "outputs": [],
   "source": [
    "os.chdir(r'C:\\Users\\alber\\OneDrive\\Desktop\\IronHAck\\DATASETS\\mid_proyect')\n",
    "data = pd.read_csv('coffee_refinal.csv')"
   ]
  },
  {
   "cell_type": "code",
   "execution_count": 15,
   "id": "565abdb5",
   "metadata": {},
   "outputs": [
    {
     "data": {
      "text/plain": [
       "(280345, 39)"
      ]
     },
     "execution_count": 15,
     "metadata": {},
     "output_type": "execute_result"
    }
   ],
   "source": [
    "#Remove duplicated in the DataFrame\n",
    "data.drop_duplicates(subset=None, keep='first', inplace=True, ignore_index=False)\n",
    "data.shape"
   ]
  },
  {
   "cell_type": "code",
   "execution_count": 16,
   "id": "8e694d32",
   "metadata": {},
   "outputs": [],
   "source": [
    "# Creating new column 'unit_price_range' splitting the prizes in 3 ranges\n",
    "\n",
    "data.loc[(data.unit_price <= 2.5), 'unit_price_range'] = 1\n",
    "data.loc[(data.unit_price < 10) & (data.unit_price > 2.5) , 'unit_price_range'] = 2\n",
    "data.loc[(data.unit_price >= 10 ), 'unit_price_range'] = 3\n",
    "\n",
    "data['is_morning']= (data[\"transaction_time\"] >= '05:00:00') & (data[\"transaction_time\"] <= '12:00:00')\n",
    "\n",
    "data[\"transaction_date\"] = data[\"transaction_date\"].apply(pd.to_datetime)\n",
    "\n",
    "data[\"weekday\"] = data[\"transaction_date\"].dt.strftime('%w')\n",
    "# %w\tDay of the week where Sunday=0 and Saturday=6\n",
    "\n",
    "data.loc[(data.birth_year <= 1969), 'generation'] = 1\n",
    "data.loc[(data.birth_year > 1969) & (data.birth_year < 1990 ) , 'generation'] = 2\n",
    "data.loc[(data.birth_year >= 1990 ), 'generation'] = 3"
   ]
  },
  {
   "cell_type": "code",
   "execution_count": 51,
   "id": "e512047f",
   "metadata": {},
   "outputs": [],
   "source": [
    "# Choosing features and dropping duplicates/NaNs. Maybe include 'instore_yn', 'product_group', 'new_product_yn', 'product_type'\n",
    "\n",
    "X = data.loc[:, ['product_group', 'weekday', 'is_morning',\n",
    "             'unit_price_range', 'quantity', 'generation', 'gender']]\n",
    "\n",
    "X.drop_duplicates(keep='first', inplace=True, ignore_index=False)\n",
    "\n",
    "X.dropna(inplace=True)\n",
    "\n",
    "\n",
    "y = X.loc[:, 'product_group']\n",
    "X = X.loc[:,['weekday', 'is_morning',\n",
    "             'unit_price_range', 'quantity', 'generation', 'gender']]"
   ]
  },
  {
   "cell_type": "code",
   "execution_count": 52,
   "id": "94991917",
   "metadata": {},
   "outputs": [
    {
     "name": "stdout",
     "output_type": "stream",
     "text": [
      "Nb rows X_train = 901\n",
      "Nb rows X_test = 387\n",
      "Nb rows y_train = 901\n",
      "Nb rows y_test = 387\n"
     ]
    }
   ],
   "source": [
    "#Train/Test split\n",
    "X_train, X_test, y_train, y_test = train_test_split(X, y, test_size=0.3, random_state=2)\n",
    "\n",
    "print(\"Nb rows X_train = {}\".format(len(X_train)))\n",
    "print(\"Nb rows X_test = {}\".format(len(X_test)))\n",
    "print(\"Nb rows y_train = {}\".format(len(y_train)))\n",
    "print(\"Nb rows y_test = {}\".format(len(y_test)))"
   ]
  },
  {
   "cell_type": "code",
   "execution_count": 53,
   "id": "a0560a42",
   "metadata": {},
   "outputs": [
    {
     "name": "stdout",
     "output_type": "stream",
     "text": [
      "<class 'pandas.core.frame.DataFrame'>\n",
      "Int64Index: 1288 entries, 0 to 275973\n",
      "Data columns (total 6 columns):\n",
      " #   Column            Non-Null Count  Dtype  \n",
      "---  ------            --------------  -----  \n",
      " 0   weekday           1288 non-null   object \n",
      " 1   is_morning        1288 non-null   bool   \n",
      " 2   unit_price_range  1288 non-null   float64\n",
      " 3   quantity          1288 non-null   int64  \n",
      " 4   generation        1288 non-null   float64\n",
      " 5   gender            1288 non-null   object \n",
      "dtypes: bool(1), float64(2), int64(1), object(2)\n",
      "memory usage: 61.6+ KB\n"
     ]
    }
   ],
   "source": [
    "X.info()"
   ]
  },
  {
   "cell_type": "code",
   "execution_count": 54,
   "id": "e5e497ab",
   "metadata": {},
   "outputs": [],
   "source": [
    "# Encoding categorical features and standardizing numeric features\n",
    "\n",
    "numeric_features = [2, 3, 4] # Choose which column index we are going to scale\n",
    "numeric_transformer = StandardScaler()\n",
    "\n",
    "categorical_features = [0, 1, 5] \n",
    "categorical_transformer = OneHotEncoder()\n",
    "\n",
    "\n",
    "# Apply ColumnTransformer to create a pipeline that will apply the above preprocessing\n",
    "feature_encoder = ColumnTransformer(\n",
    "    transformers=[\n",
    "        ('cat', categorical_transformer, categorical_features),    \n",
    "        ('num', numeric_transformer, numeric_features)\n",
    "        ]\n",
    "    )\n",
    "\n",
    "\n",
    "X_train = feature_encoder.fit_transform(X_train)\n",
    "X_test = feature_encoder.transform(X_test)\n",
    "\n",
    "\n",
    "#Encoding target variable\n",
    "encoder = LabelEncoder()\n",
    "y_train = encoder.fit_transform(y_train)\n",
    "y_test = encoder.transform(y_test)"
   ]
  },
  {
   "cell_type": "code",
   "execution_count": null,
   "id": "a0e1aa00",
   "metadata": {},
   "outputs": [],
   "source": []
  },
  {
   "cell_type": "code",
   "execution_count": 55,
   "id": "55ee314f",
   "metadata": {},
   "outputs": [],
   "source": [
    "model1 = LogisticRegression()\n",
    "model2 = DecisionTreeRegressor()\n",
    "model3 = RandomForestRegressor()"
   ]
  },
  {
   "cell_type": "code",
   "execution_count": 56,
   "id": "6baa5a5d",
   "metadata": {},
   "outputs": [],
   "source": [
    "def Log_Reg(model):\n",
    "\n",
    "    model.fit(X_train, y_train)\n",
    "        \n",
    "    # Evaluation of the model\n",
    "    pred_train = model.predict(X_train)\n",
    "    pred_test = model.predict(X_test)\n",
    "        \n",
    "    print(classification_report(y_train, pred_train))\n",
    "    print(classification_report(y_test, pred_test))\n",
    "    \n",
    "    # Visualize confusion matrices\n",
    "    _ , ax = plt.subplots() # Get subplot from matplotlib\n",
    "    ax.set(title=\"Confusion Matrix on Train set\") # Set a title that we will add into ConfusionMatrixDisplay\n",
    "    ConfusionMatrixDisplay.from_estimator(model, X_train, y_train, ax=ax) # ConfusionMatrixDisplay from sklearn\n",
    "    plt.show()\n",
    "\n",
    "    _ , ax = plt.subplots() # Get subplot from matplotlib\n",
    "    ax.set(title=\"Confusion Matrix on Test set\") # Set a title that we will add into ConfusionMatrixDisplay\n",
    "    ConfusionMatrixDisplay.from_estimator(model, X_test, y_test, ax=ax) # ConfusionMatrixDisplay from sklearn"
   ]
  },
  {
   "cell_type": "code",
   "execution_count": 57,
   "id": "daa6d55c",
   "metadata": {},
   "outputs": [],
   "source": [
    "def ran_for(model, forest):\n",
    "\n",
    "    model.fit(X_train, y_train)\n",
    "    \n",
    "    # Evaluation of the model\n",
    "    print(\"Train Score : {}\".format(model.score(X_train, y_train)))\n",
    "    print('Test Score : {}'.format(model.score(X_test, y_test)))\n",
    "    "
   ]
  },
  {
   "cell_type": "code",
   "execution_count": 58,
   "id": "b285abda",
   "metadata": {},
   "outputs": [],
   "source": [
    "def dec_tree(model, leaf):\n",
    "    \n",
    "    model.fit(X_train, y_train)\n",
    "    \n",
    "    # Evaluation of the model\n",
    "    print(\"Train Score : {}\".format(model.score(X_train, y_train)))\n",
    "    print('Test Score : {}'.format(model.score(X_test, y_test)))\n",
    "    \n",
    " "
   ]
  },
  {
   "cell_type": "code",
   "execution_count": null,
   "id": "095b11e6",
   "metadata": {},
   "outputs": [],
   "source": []
  },
  {
   "cell_type": "code",
   "execution_count": 59,
   "id": "aecd5b3d",
   "metadata": {},
   "outputs": [
    {
     "name": "stdout",
     "output_type": "stream",
     "text": [
      "              precision    recall  f1-score   support\n",
      "\n",
      "           0       0.55      0.33      0.41       162\n",
      "           1       0.62      0.82      0.70       452\n",
      "           2       0.39      0.31      0.35       125\n",
      "           3       0.70      0.21      0.33        33\n",
      "           4       0.70      0.48      0.57       129\n",
      "\n",
      "    accuracy                           0.59       901\n",
      "   macro avg       0.59      0.43      0.47       901\n",
      "weighted avg       0.59      0.59      0.57       901\n",
      "\n",
      "              precision    recall  f1-score   support\n",
      "\n",
      "           0       0.38      0.29      0.32        63\n",
      "           1       0.62      0.78      0.69       203\n",
      "           2       0.30      0.24      0.27        42\n",
      "           3       0.50      0.12      0.20        24\n",
      "           4       0.51      0.40      0.45        55\n",
      "\n",
      "    accuracy                           0.55       387\n",
      "   macro avg       0.46      0.37      0.39       387\n",
      "weighted avg       0.52      0.55      0.52       387\n",
      "\n"
     ]
    },
    {
     "data": {
      "image/png": "[encoded data removed]",
      "text/plain": [
       "<Figure size 432x288 with 2 Axes>"
      ]
     },
     "metadata": {
      "needs_background": "light"
     },
     "output_type": "display_data"
    },
    {
     "data": {
      "image/png": "[encoded data removed]",
      "text/plain": [
       "<Figure size 432x288 with 2 Axes>"
      ]
     },
     "metadata": {
      "needs_background": "light"
     },
     "output_type": "display_data"
    }
   ],
   "source": [
    "#LogisticRegression\n",
    "Log_Reg(model1)"
   ]
  },
  {
   "cell_type": "code",
   "execution_count": null,
   "id": "8554f418",
   "metadata": {},
   "outputs": [],
   "source": []
  },
  {
   "cell_type": "code",
   "execution_count": null,
   "id": "4f916d0f",
   "metadata": {},
   "outputs": [],
   "source": []
  },
  {
   "cell_type": "code",
   "execution_count": 60,
   "id": "976334ea",
   "metadata": {},
   "outputs": [
    {
     "data": {
      "text/plain": [
       "Index(['product_id', 'customer_id', 'transaction_id', 'transaction_date',\n",
       "       'transaction_time', 'sales_outlet_id', 'staff_id', 'instore_yn',\n",
       "       'orders', 'line_item_id', 'quantity', 'line_item_amount', 'unit_price',\n",
       "       'promo_item_yn', 'home_store', 'customer_first-name', 'customer_email',\n",
       "       'customer_since', 'loyalty_card_number', 'birthdate', 'gender',\n",
       "       'birth_year', 'product_group', 'product_category', 'product_type',\n",
       "       'product', 'product_description', 'unit_of_measure',\n",
       "       'current_wholesame_price', 'current_retail_price', 'tax_exempt_yn',\n",
       "       'promo_yn', 'new_product_yn', 'pa_sales_outlet_id',\n",
       "       'pa_transaction_date', 'start_of_day', 'quantity_sold', 'waste',\n",
       "       'perct_waste', 'unit_price_range', 'is_morning', 'weekday',\n",
       "       'generation'],\n",
       "      dtype='object')"
      ]
     },
     "execution_count": 60,
     "metadata": {},
     "output_type": "execute_result"
    }
   ],
   "source": [
    "data.columns"
   ]
  },
  {
   "cell_type": "code",
   "execution_count": 62,
   "id": "06cc0fb7",
   "metadata": {},
   "outputs": [
    {
     "data": {
      "text/plain": [
       "Bakery                238067\n",
       "Coffee                 19675\n",
       "Tea                    15135\n",
       "Drinking Chocolate      3836\n",
       "Flavours                2248\n",
       "Coffee beans             587\n",
       "Loose Tea                401\n",
       "Branded                  245\n",
       "Packaged Chocolate       151\n",
       "Name: product_category, dtype: int64"
      ]
     },
     "execution_count": 62,
     "metadata": {},
     "output_type": "execute_result"
    }
   ],
   "source": [
    "data.product_category.value_counts()"
   ]
  },
  {
   "cell_type": "code",
   "execution_count": 64,
   "id": "7e37e457",
   "metadata": {},
   "outputs": [
    {
     "data": {
      "text/plain": [
       "Food               238067\n",
       "Beverages           38646\n",
       "Add-ons              2248\n",
       "Whole Bean/Teas      1139\n",
       "Merchandise           245\n",
       "Name: product_group, dtype: int64"
      ]
     },
     "execution_count": 64,
     "metadata": {},
     "output_type": "execute_result"
    }
   ],
   "source": [
    "data.product_group.value_counts()"
   ]
  },
  {
   "cell_type": "code",
   "execution_count": null,
   "id": "03d7b631",
   "metadata": {},
   "outputs": [],
   "source": []
  }
 ],
 "metadata": {
  "kernelspec": {
   "display_name": "Python 3 (ipykernel)",
   "language": "python",
   "name": "python3"
  },
  "language_info": {
   "codemirror_mode": {
    "name": "ipython",
    "version": 3
   },
   "file_extension": ".py",
   "mimetype": "text/x-python",
   "name": "python",
   "nbconvert_exporter": "python",
   "pygments_lexer": "ipython3",
   "version": "3.9.12"
  }
 },
 "nbformat": 4,
 "nbformat_minor": 5
}
