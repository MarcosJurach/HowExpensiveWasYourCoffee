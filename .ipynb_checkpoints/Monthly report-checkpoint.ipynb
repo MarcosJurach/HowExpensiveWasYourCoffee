{
 "cells": [
  {
   "cell_type": "code",
   "execution_count": 26,
   "id": "c0334fa1",
   "metadata": {},
   "outputs": [],
   "source": [
    "import pandas as pd\n",
    "import numpy as np\n",
    "import matplotlib as mpl\n",
    "import matplotlib.pyplot as plt\n",
    "import seaborn as sns\n",
    "from sklearn.model_selection import train_test_split\n",
    "from sklearn.linear_model import LinearRegression\n",
    "from sklearn.tree import DecisionTreeClassifier\n",
    "from sklearn.ensemble import RandomForestClassifier\n",
    "from sklearn.metrics import confusion_matrix, classification_report\n",
    "from sklearn.compose import ColumnTransformer\n",
    "from sklearn import preprocessing\n",
    "from sklearn import utils\n"
   ]
  },
  {
   "cell_type": "code",
   "execution_count": 22,
   "id": "742ffc75",
   "metadata": {},
   "outputs": [
    {
     "name": "stdout",
     "output_type": "stream",
     "text": [
      "<class 'pandas.core.frame.DataFrame'>\n",
      "RangeIndex: 280345 entries, 0 to 280344\n",
      "Data columns (total 39 columns):\n",
      " #   Column                   Non-Null Count   Dtype  \n",
      "---  ------                   --------------   -----  \n",
      " 0   product_id               280345 non-null  int64  \n",
      " 1   customer_id              280345 non-null  int64  \n",
      " 2   transaction_id           280345 non-null  int64  \n",
      " 3   transaction_date         280345 non-null  object \n",
      " 4   transaction_time         280345 non-null  object \n",
      " 5   sales_outlet_id          280345 non-null  int64  \n",
      " 6   staff_id                 280345 non-null  int64  \n",
      " 7   instore_yn               280345 non-null  object \n",
      " 8   orders                   280345 non-null  int64  \n",
      " 9   line_item_id             280345 non-null  int64  \n",
      " 10  quantity                 280345 non-null  int64  \n",
      " 11  line_item_amount         280345 non-null  float64\n",
      " 12  unit_price               280345 non-null  float64\n",
      " 13  promo_item_yn            280345 non-null  object \n",
      " 14  home_store               138648 non-null  float64\n",
      " 15  customer_first-name      138648 non-null  object \n",
      " 16  customer_email           138648 non-null  object \n",
      " 17  customer_since           138648 non-null  object \n",
      " 18  loyalty_card_number      138648 non-null  object \n",
      " 19  birthdate                138648 non-null  object \n",
      " 20  gender                   138648 non-null  object \n",
      " 21  birth_year               138648 non-null  float64\n",
      " 22  product_group            280345 non-null  object \n",
      " 23  product_category         280345 non-null  object \n",
      " 24  product_type             280345 non-null  object \n",
      " 25  product                  280345 non-null  object \n",
      " 26  product_description      280345 non-null  object \n",
      " 27  unit_of_measure          280345 non-null  object \n",
      " 28  current_wholesame_price  280345 non-null  float64\n",
      " 29  current_retail_price     280345 non-null  object \n",
      " 30  tax_exempt_yn            280345 non-null  object \n",
      " 31  promo_yn                 280345 non-null  object \n",
      " 32  new_product_yn           280345 non-null  object \n",
      " 33  pa_sales_outlet_id       234267 non-null  float64\n",
      " 34  pa_transaction_date      234267 non-null  object \n",
      " 35  start_of_day             234267 non-null  float64\n",
      " 36  quantity_sold            234267 non-null  float64\n",
      " 37  waste                    234267 non-null  float64\n",
      " 38  perct_waste              234267 non-null  object \n",
      "dtypes: float64(9), int64(8), object(22)\n",
      "memory usage: 83.4+ MB\n"
     ]
    }
   ],
   "source": [
    "# Business understanding: what do we have on the data and a menu analysis\n",
    "coffee_db = pd.read_csv('coffee.csv')\n",
    "coffee_db.rename(columns = {'0':'sales_outlet_id', '1':'product_id',\n",
    "                            '2':'customer_id', '3':'transaction_id',\n",
    "                            '4':'transaction_date',\n",
    "                            '5':'transaction_time', '6':'staff_id',\n",
    "                            '7':'instore_yn', '8':'orders',\n",
    "                            '9': 'line_item_id', '10': 'quantity',\n",
    "                            '11':'line_item_amount', '12':'unit_price',\n",
    "                            '13': 'promo_item_yn', '14':'home_store',\n",
    "                            '15':'customer_first-name',\n",
    "                            '16':'customer_email', '17':'customer_since',\n",
    "                            '18':'loyalty_card_number',\n",
    "                            '19': 'birthdate', '20':'gender',\n",
    "                            '21':'birth_year', '22':'product_group',\n",
    "                            '23':'product_category', '24':'product_type',\n",
    "                            '25':'product', '26':'product_description',\n",
    "                            '27':'unit_of_measure', '28':'current_wholesame_price',\n",
    "                            '29':'current_retail_price', '30':'tax_exempt_yn',\n",
    "                            '31':'promo_yn','32':'new_product_yn','33':'transaction_date',\n",
    "                            '34':'product_id', '35':'start_of_day', '36':'quantity_sold',\n",
    "                            '37': 'waste', '38':'%waste'\n",
    "                           }, inplace = True)\n",
    "coffee_db.info()"
   ]
  },
  {
   "cell_type": "code",
   "execution_count": 41,
   "id": "261472d4",
   "metadata": {},
   "outputs": [],
   "source": [
    "# Choosing features and dropping duplicates/NaNs\n",
    "X = coffee_db.loc[:,['transaction_id', 'product_id', 'gender', 'birth_year', 'promo_item_yn', 'product_category','line_item_amount']]\n",
    "\n",
    "X.drop_duplicates(subset=['transaction_id', 'product_id'], keep='first', inplace=True, ignore_index=False)\n",
    "X.dropna(inplace=True)\n",
    "\n",
    "# Train and test split\n",
    "y = X.loc[:,'line_item_amount']\n",
    "X = X.loc[:,['gender', 'birth_year', 'promo_item_yn', 'product_category']]\n",
    "y = y.astype(int)\n",
    "\n",
    "X_train, X_test, y_train, y_test = train_test_split(X, y, test_size=0.2, random_state=0)"
   ]
  },
  {
   "cell_type": "code",
   "execution_count": 42,
   "id": "9a5b5141",
   "metadata": {},
   "outputs": [],
   "source": [
    "# Encoding categorical features and standardizing numeric features\n",
    "\n",
    "numeric_features = [1] # Choose which column index we are going to scale\n",
    "numeric_transformer = StandardScaler()\n",
    "\n",
    "categorical_features = [0,2,3] \n",
    "categorical_transformer = OneHotEncoder()\n",
    "\n",
    "\n",
    "# Apply ColumnTransformer to create a pipeline that will apply the above preprocessing\n",
    "feature_encoder = ColumnTransformer(\n",
    "    transformers=[\n",
    "        ('cat', categorical_transformer, categorical_features),    \n",
    "        ('num', numeric_transformer, numeric_features)\n",
    "        ]\n",
    "    )\n",
    "X_train = feature_encoder.fit_transform(X_train)\n",
    "X_test = feature_encoder.fit_transform(X_test)\n",
    "y_train = y_train.to_numpy()\n",
    "y_test = y_test.to_numpy()"
   ]
  },
  {
   "cell_type": "code",
   "execution_count": 5,
   "id": "1567f537",
   "metadata": {},
   "outputs": [],
   "source": [
    "def dec_tree(leaf):\n",
    "    classifier = DecisionTreeClassifier(min_samples_leaf=leaf)\n",
    "    classifier.fit(X_train, y_train)\n",
    "    \n",
    "    # Evaluation of the model\n",
    "    print(\"Train Score : {}\".format(classifier.score(X_train, y_train)))\n",
    "    print('Test Score : {}'.format(classifier.score(X_test, y_test)))\n",
    "    \n",
    "    # Confusion matrix\n",
    "    cm = confusion_matrix(y_test, classifier.predict(X_test))\n",
    "    sns.heatmap(cm, annot=True, fmt=\".1f\")"
   ]
  },
  {
   "cell_type": "code",
   "execution_count": 6,
   "id": "6f42cc5b",
   "metadata": {},
   "outputs": [],
   "source": [
    "def random_forest(forest):\n",
    "    classifier = RandomForestClassifier(n_estimators=forest)\n",
    "    classifier.fit(X_train, y_train)\n",
    "    \n",
    "    # Evaluation of the model\n",
    "    print(\"Train Score : {}\".format(classifier.score(X_train, y_train)))\n",
    "    print('Test Score : {}'.format(classifier.score(X_test, y_test)))\n",
    "    \n",
    "    # Confusion matrix\n",
    "    cm = confusion_matrix(y_test, classifier.predict(X_test))\n",
    "    sns.heatmap(cm, annot=True, fmt=\".1f\")"
   ]
  },
  {
   "cell_type": "code",
   "execution_count": 49,
   "id": "fb77c0c4",
   "metadata": {},
   "outputs": [
    {
     "name": "stdout",
     "output_type": "stream",
     "text": [
      "Train Score : 0.4224875376946274\n",
      "Test Score : 0.3386660103371893\n"
     ]
    },
    {
     "data": {
      "image/png": "[encoded data removed]",
      "text/plain": [
       "<Figure size 432x288 with 2 Axes>"
      ]
     },
     "metadata": {
      "needs_background": "light"
     },
     "output_type": "display_data"
    }
   ],
   "source": [
    "dec_tree(3)"
   ]
  }
 ],
 "metadata": {
  "kernelspec": {
   "display_name": "Python 3 (ipykernel)",
   "language": "python",
   "name": "python3"
  },
  "language_info": {
   "codemirror_mode": {
    "name": "ipython",
    "version": 3
   },
   "file_extension": ".py",
   "mimetype": "text/x-python",
   "name": "python",
   "nbconvert_exporter": "python",
   "pygments_lexer": "ipython3",
   "version": "3.9.12"
  }
 },
 "nbformat": 4,
 "nbformat_minor": 5
}
